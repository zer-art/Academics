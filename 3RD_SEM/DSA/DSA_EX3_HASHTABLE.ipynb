{
 "cells": [
  {
   "cell_type": "markdown",
   "metadata": {},
   "source": [
    "## **`USING LIST`** "
   ]
  },
  {
   "cell_type": "code",
   "execution_count": 51,
   "metadata": {},
   "outputs": [
    {
     "data": {
      "text/plain": [
       "[['march 6', 310.0],\n",
       " ['march 7', 340.0],\n",
       " ['march 8', 380.0],\n",
       " ['march 9', 302.0],\n",
       " ['march 10', 297.0],\n",
       " ['march 11', 323.0]]"
      ]
     },
     "execution_count": 51,
     "metadata": {},
     "output_type": "execute_result"
    }
   ],
   "source": [
    "stock_price = []\n",
    "with open (\"stock_prices.csv\",\"r\") as f :\n",
    "    for line in f :\n",
    "        day,price = line.split(\",\")\n",
    "        stock_price.append([day,float(price)])\n",
    "\n",
    "stock_price"
   ]
  },
  {
   "cell_type": "markdown",
   "metadata": {},
   "source": [
    "### GETTING ITEM\n"
   ]
  },
  {
   "cell_type": "code",
   "execution_count": 52,
   "metadata": {},
   "outputs": [
    {
     "name": "stdout",
     "output_type": "stream",
     "text": [
      "302.0\n"
     ]
    }
   ],
   "source": [
    "for item in stock_price:\n",
    "    if item[0] == \"march 9\" :\n",
    "        print(item[1])"
   ]
  },
  {
   "cell_type": "markdown",
   "metadata": {},
   "source": [
    "## **`USING DICTIONARY`**"
   ]
  },
  {
   "cell_type": "markdown",
   "metadata": {},
   "source": [
    "1 ***Dictionary is implementation of Hashmap***  \n",
    "2 ***Look up by key is order of 1 on average***  \n",
    "3 ***Insertion/Deletion is order of 1 on average***\n"
   ]
  },
  {
   "cell_type": "code",
   "execution_count": 53,
   "metadata": {},
   "outputs": [
    {
     "data": {
      "text/plain": [
       "{'march 6': '310\\n',\n",
       " 'march 7': '340\\n',\n",
       " 'march 8': '380\\n',\n",
       " 'march 9': '302\\n',\n",
       " 'march 10': '297\\n',\n",
       " 'march 11': '323'}"
      ]
     },
     "execution_count": 53,
     "metadata": {},
     "output_type": "execute_result"
    }
   ],
   "source": [
    "stock_price = {}\n",
    "with open (\"stock_prices.csv\",\"r\") as f :\n",
    "    for line in f :\n",
    "        day,price = line.split(\",\")\n",
    "        stock_price[day] = price \n",
    "\n",
    "stock_price"
   ]
  },
  {
   "cell_type": "markdown",
   "metadata": {},
   "source": [
    "### GETTING ITEM"
   ]
  },
  {
   "cell_type": "code",
   "execution_count": 54,
   "metadata": {},
   "outputs": [],
   "source": [
    "try : \n",
    "    stock_price[input(\"Enter date : \")]\n",
    "except LookupError : \n",
    "    print(\"Invalid date\")"
   ]
  },
  {
   "cell_type": "markdown",
   "metadata": {},
   "source": [
    "## **`HASH FUNCTION`**"
   ]
  },
  {
   "cell_type": "code",
   "execution_count": 66,
   "metadata": {},
   "outputs": [],
   "source": [
    "input_value = input(\"Enter value: \")\n",
    "\n",
    "# Make the input_value global\n",
    "global Input\n",
    "Input = input_value\n",
    "\n",
    "def get_hash(): \n",
    "    sum_value = 0\n",
    "    for i in Input:\n",
    "        sum_value += ord(i)\n",
    "    hash =  sum_value%len(Input)   \n",
    "    return hash\n",
    "\n"
   ]
  },
  {
   "cell_type": "markdown",
   "metadata": {},
   "source": [
    "### HASH TABLE  \n",
    "***this is a example of simple hash table this can't handle the collisions (multipl keys pointing at a same hash)*** \n"
   ]
  },
  {
   "cell_type": "code",
   "execution_count": 62,
   "metadata": {},
   "outputs": [],
   "source": [
    "# class is a set of defined functions \n",
    "\n",
    "class HashTable : \n",
    "    def __init__(self):\n",
    "        self.Max = 100\n",
    "        self.arr = [None] * self.Max\n",
    "\n",
    "    def get_hash(self,key): \n",
    "        sum_value = 0\n",
    "        for i in key :\n",
    "            sum_value += ord(i)\n",
    "        hash =  sum_value%self.Max  \n",
    "        return hash    \n",
    "    \n",
    "    def __setitem__ (self,key,val):\n",
    "        hash = self.get_hash(key)\n",
    "        self.arr[hash] = val\n",
    "    \n",
    "    def __getitem__(self, key):\n",
    "        hash = self.get_hash(key)\n",
    "        return self.arr[hash]\n",
    "    \n",
    "    def __delitem__(self,key):\n",
    "        hash = self.get_hash(key)\n",
    "        self.arr[hash] = None\n",
    "    \n",
    "\n",
    "\n",
    "    "
   ]
  },
  {
   "cell_type": "code",
   "execution_count": 64,
   "metadata": {},
   "outputs": [
    {
     "name": "stdout",
     "output_type": "stream",
     "text": [
      "9\n",
      "302\n"
     ]
    }
   ],
   "source": [
    "if __name__ == '__main__':\n",
    "   h = HashTable()\n",
    "   h['march 6'] = 302\n",
    "   print(h.get_hash('march 6'))\n",
    "   print(h.__getitem__('march 6'))\n",
    "   \n",
    "\n",
    "\n"
   ]
  },
  {
   "cell_type": "markdown",
   "metadata": {},
   "source": [
    "## **`HASH TABLE WITH COLLISION HANDLING`**"
   ]
  },
  {
   "cell_type": "markdown",
   "metadata": {},
   "source": [
    "### THERE ARE TWO WAYS TO HANDLE COLLISION\n",
    "*1. CHAINING* - Chaining addresses this issue by storing multiple elements at the same index using a secondary data structure, typically a linked list  \n",
    "*2. LINEAR PROBING* - When a collision occurs linear probing searches for the next available slot in a sequential manner to insert the new key. \n"
   ]
  },
  {
   "cell_type": "code",
   "execution_count": 55,
   "metadata": {},
   "outputs": [],
   "source": [
    "'''CHAINING USING LIST STORING UNIT'''\n",
    "class HashTable : \n",
    "    def __init__(self):\n",
    "        self.Max = 100\n",
    "        self.arr =[[] for i in range(self.Max)]\n",
    "\n",
    "    def get_hash(self,key): \n",
    "        sum_value = 0\n",
    "        for i in key :\n",
    "            sum_value += ord(i)\n",
    "        hash =  sum_value%self.Max  \n",
    "        return hash    \n",
    "    \n",
    "    def __setitem__ (self,key,val):\n",
    "        hash = self.get_hash(key)\n",
    "        if len(self.arr[hash])==0:\n",
    "            self.arr[hash].append([key,val])\n",
    "        else:\n",
    "            for item in self.arr[hash]:\n",
    "                if item[0] == key:\n",
    "                    item[1]=val    \n",
    "                    break\n",
    "                else :\n",
    "                    self.arr[hash].append([key,val])\n",
    "                \n",
    "    def __getitem__(self, key):\n",
    "        hash = self.get_hash(key)\n",
    "        for item in self.arr[hash]:\n",
    "            if item[0] == key:\n",
    "                return item[1]\n",
    "                \n",
    "    \n",
    "    def __delitem__(self,key):\n",
    "        hash = self.get_hash(key)\n",
    "        self.arr[hash] = None\n",
    "    "
   ]
  },
  {
   "cell_type": "code",
   "execution_count": 56,
   "metadata": {},
   "outputs": [
    {
     "name": "stdout",
     "output_type": "stream",
     "text": [
      "12\n",
      "12\n",
      "500\n",
      "[['march 9', 500], ['\\x0c', 440]]\n"
     ]
    }
   ],
   "source": [
    "\n",
    "ht = HashTable()\n",
    "print(ht.get_hash('march 9'))\n",
    "ht.__setitem__('march 9',400)\n",
    "ht.__setitem__('march 9',500)\n",
    "ht.__setitem__('\\x0C',440)\n",
    "print(ht.get_hash('\\x0C'))\n",
    "print(ht.__getitem__('march 9'))\n",
    "print(ht.arr[12])\n",
    "   \n",
    "\n"
   ]
  },
  {
   "cell_type": "code",
   "execution_count": 1,
   "metadata": {},
   "outputs": [],
   "source": [
    "'''CHAINING USING TUPLE AS STORING UNIT'''\n",
    "\n",
    "class HashTable : \n",
    "    def __init__(self):\n",
    "        self.Max = 100\n",
    "        self.arr =[[] for i in range(self.Max)]\n",
    "\n",
    "    def get_hash(self,key): \n",
    "        sum_value = 0\n",
    "        for i in key :\n",
    "            sum_value += ord(i)\n",
    "        hash =  sum_value%self.Max  \n",
    "        return hash    \n",
    "    \n",
    "    def __setitem__ (self,key,val):\n",
    "        hash = self.get_hash(key)\n",
    "        found =False\n",
    "        for index,element in  enumerate(self.arr[hash]):\n",
    "            if len(element) == 2 and element[0]== key:\n",
    "                self.arr[hash][index] = (key,val)\n",
    "                found = True\n",
    "        if found==False:\n",
    "            self.arr[hash].append((key,val))\n",
    "                \n",
    "    def __getitem__(self, key):\n",
    "        hash = self.get_hash(key)\n",
    "        for item in self.arr[hash]:\n",
    "            if item[0] == key:\n",
    "                return item[1]\n",
    "                \n",
    "    \n",
    "    def __delitem__(self,key):\n",
    "        hash = self.get_hash(key)\n",
    "        found =False\n",
    "        for index,element in  enumerate(self.arr[hash]):\n",
    "            if len(element) == 2 and element[0]== key:\n",
    "                self.arr[hash][index] = None\n",
    "                found = True\n",
    "        if found==False:\n",
    "            print(f\"{key} does not exists . \")"
   ]
  },
  {
   "cell_type": "code",
   "execution_count": null,
   "metadata": {},
   "outputs": [],
   "source": [
    "'''LINEAR PROBING USING LIST STORING UNIT'''\n",
    "class HashTable : \n",
    "    def __init__(self):\n",
    "        self.Max = 100\n",
    "        self.arr =[[] for i in range(self.Max)]\n",
    "\n",
    "    def get_hash(self,key): \n",
    "        sum_value = 0\n",
    "        for i in key :\n",
    "            sum_value += ord(i)\n",
    "        hash =  sum_value%self.Max  \n",
    "        return hash    \n",
    "    \n",
    "    def __setitem__ (self,key,val):\n",
    "        hash = self.get_hash(key)\n",
    "        if len(self.arr[hash])==0:\n",
    "            self.arr[hash].append([key,val])\n",
    "        else:\n",
    "            for item in self.arr[hash]:\n",
    "                if item[0] == key:\n",
    "                    item[1]=val    \n",
    "                    break\n",
    "                else :\n",
    "                    self.arr[hash].append([key,val])\n",
    "                \n",
    "    def __getitem__(self, key):\n",
    "        hash = self.get_hash(key)\n",
    "        for item in self.arr[hash]:\n",
    "            if item[0] == key:\n",
    "                return item[1]\n",
    "                \n",
    "    \n",
    "    def __delitem__(self,key):\n",
    "        hash = self.get_hash(key)\n",
    "        self.arr[hash] = None\n",
    "    "
   ]
  },
  {
   "cell_type": "markdown",
   "metadata": {},
   "source": [
    "nyc_weather.csv contains new york city weather for first few days in the month of January. Write a program that can answer following,  \n",
    "What was the average temperature in first week of Jan  \n",
    "What was the maximum temperature in first 10 days of Jan"
   ]
  },
  {
   "cell_type": "code",
   "execution_count": 8,
   "metadata": {},
   "outputs": [
    {
     "name": "stdout",
     "output_type": "stream",
     "text": [
      "Invalid temperature.Ignore the row\n",
      "Average :  31.4\n",
      "Min in first week :  23\n"
     ]
    }
   ],
   "source": [
    "weather = []\n",
    "with open(\"nyc_weather.csv\",\"r\") as f:\n",
    "    for line in f:\n",
    "        element = line.split(',')\n",
    "        try:\n",
    "            temperature = int(element[1])\n",
    "            weather.append(temperature)\n",
    "        except:\n",
    "            print(\"Invalid temperature.Ignore the row\")\n",
    "\n",
    "weather   \n",
    "print(f\"Average :  {sum(weather)/len(weather)}\") \n",
    "print(f\"Min in first week :  {min(weather[:7])}\") \n"
   ]
  },
  {
   "cell_type": "markdown",
   "metadata": {},
   "source": [
    "nyc_weather.csv contains new york city weather for first few days in the month of January. Write a program that can answer following,  \n",
    "What was the temperature on Jan 9?  \n",
    "What was the temperature on Jan 4?"
   ]
  },
  {
   "cell_type": "code",
   "execution_count": 15,
   "metadata": {},
   "outputs": [
    {
     "name": "stdout",
     "output_type": "stream",
     "text": [
      "Invalid temperature.Ignore the row\n",
      "30\n",
      "\n"
     ]
    }
   ],
   "source": [
    "weather = {}\n",
    "with open(\"nyc_weather.csv\",\"r\") as f:\n",
    "    for line in f:\n",
    "        element = line.split(',')\n",
    "        try:\n",
    "            temperature = int(element[1])\n",
    "            weather[element[0].replace(\" \",\"\").lower()]=element[1]\n",
    "        except:\n",
    "            print(\"Invalid temperature.Ignore the row\")\n",
    "weather   \n",
    "print(weather[input(\"enter date : \").replace(\" \",\"\").lower()]) "
   ]
  },
  {
   "cell_type": "markdown",
   "metadata": {},
   "source": [
    "poem.txt Contains famous poem \"Road not taken\" by poet Robert Frost. You have to read this file in python and print every word and its count as show below. Think about the best data structure that you can use to solve this problem and figure out why you selected that specific data structure.\n"
   ]
  },
  {
   "cell_type": "code",
   "execution_count": 15,
   "metadata": {},
   "outputs": [
    {
     "data": {
      "text/plain": [
       "{'diverged': 1,\n",
       " 'Yet': 1,\n",
       " 'lay\\n': 1,\n",
       " 'for': 1,\n",
       " 'travel': 1,\n",
       " 'on': 1,\n",
       " 'should': 1,\n",
       " 'that': 1,\n",
       " 'ever': 1,\n",
       " 'traveled': 1,\n",
       " 'how': 1,\n",
       " 'with': 1,\n",
       " 'sigh\\n': 1,\n",
       " 'shall': 1,\n",
       " 'bent': 1,\n",
       " 'Though': 1,\n",
       " 'had': 1,\n",
       " 'day!\\n': 1,\n",
       " 'Two': 1,\n",
       " 'if': 1,\n",
       " 'In': 1,\n",
       " 'equally': 1,\n",
       " 'could': 1,\n",
       " 'leads': 1,\n",
       " 'not': 1,\n",
       " 'both\\n': 1,\n",
       " 'as': 1,\n",
       " 'Somewhere': 1,\n",
       " 'knowing': 1,\n",
       " 'took': 1,\n",
       " 'another': 1,\n",
       " 'worn': 1,\n",
       " 'And': 1,\n",
       " 'Then': 1,\n",
       " 'where': 1,\n",
       " 'hence:\\n': 1,\n",
       " 'other,': 1,\n",
       " 'to': 1,\n",
       " 'long': 1,\n",
       " 'and': 1,\n",
       " 'fair,\\n': 1,\n",
       " 'telling': 1,\n",
       " 'perhaps': 1,\n",
       " 'Had': 1,\n",
       " 'was': 1,\n",
       " 'wanted': 1,\n",
       " 'wood,': 1,\n",
       " 'To': 1,\n",
       " 'both': 1,\n",
       " 'has': 1,\n",
       " 'Because': 1,\n",
       " 'there\\n': 1,\n",
       " 'down': 1,\n",
       " 'about': 1,\n",
       " 'first': 1,\n",
       " 'black.\\n': 1,\n",
       " 'undergrowth;\\n': 1,\n",
       " 'Oh,': 1,\n",
       " 'Iâ€”\\n': 1,\n",
       " 'trodden': 1,\n",
       " 'far': 1,\n",
       " 'by,\\n': 1,\n",
       " 'having': 1,\n",
       " 'ages': 1,\n",
       " 'a': 1,\n",
       " 'them': 1,\n",
       " 'back.\\n': 1,\n",
       " 'it': 1,\n",
       " 'roads': 1,\n",
       " 'kept': 1,\n",
       " 'doubted': 1,\n",
       " 'looked': 1,\n",
       " 'the': 1,\n",
       " '\\n': 1,\n",
       " 'I': 1,\n",
       " 'leaves': 1,\n",
       " 'no': 1,\n",
       " 'grassy': 1,\n",
       " 'claim,\\n': 1,\n",
       " 'passing': 1,\n",
       " 'one': 1,\n",
       " 'in': 1,\n",
       " 'wear;\\n': 1,\n",
       " 'less': 1,\n",
       " 'this': 1,\n",
       " 'difference.': 1,\n",
       " 'way': 1,\n",
       " 'all': 1,\n",
       " 'morning': 1,\n",
       " 'same,\\n': 1,\n",
       " 'wood,\\n': 1,\n",
       " 'made': 1,\n",
       " 'really': 1,\n",
       " 'just': 1,\n",
       " 'sorry': 1,\n",
       " 'step': 1,\n",
       " 'traveler,': 1,\n",
       " 'could\\n': 1,\n",
       " 'way,\\n': 1,\n",
       " 'yellow': 1,\n",
       " 'better': 1,\n",
       " 'come': 1,\n",
       " 'be': 1,\n",
       " 'stood\\n': 1}"
      ]
     },
     "execution_count": 15,
     "metadata": {},
     "output_type": "execute_result"
    }
   ],
   "source": [
    "poem = []\n",
    "with open(\"poem.txt\", \"r\") as p:\n",
    "    for line in p:\n",
    "        element = line.split(' ')\n",
    "        poem.extend(element)  \n",
    "unique = set(poem)\n",
    "unique\n",
    "\n",
    "dict = {}\n",
    "for i in unique:\n",
    "    if i in poem:\n",
    "        dict[i] = dict.get(i, 0) + 1\n",
    "\n",
    "        \n",
    "dict\n",
    "     "
   ]
  },
  {
   "cell_type": "markdown",
   "metadata": {},
   "source": [
    "Implement hash table where collisions are handled using linear probing. We learnt about linear probing in the video tutorial. Take the hash table implementation that uses chaining and modify methods to use linear probing. Keep MAX size of arr in hashtable as 10."
   ]
  },
  {
   "cell_type": "code",
   "execution_count": null,
   "metadata": {},
   "outputs": [],
   "source": []
  }
 ],
 "metadata": {
  "kernelspec": {
   "display_name": "Python 3",
   "language": "python",
   "name": "python3"
  },
  "language_info": {
   "codemirror_mode": {
    "name": "ipython",
    "version": 3
   },
   "file_extension": ".py",
   "mimetype": "text/x-python",
   "name": "python",
   "nbconvert_exporter": "python",
   "pygments_lexer": "ipython3",
   "version": "3.12.3"
  }
 },
 "nbformat": 4,
 "nbformat_minor": 2
}
