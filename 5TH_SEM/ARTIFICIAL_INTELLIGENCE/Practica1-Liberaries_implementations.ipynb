{
 "cells": [
  {
   "cell_type": "markdown",
   "metadata": {},
   "source": [
    "# Library Implementations Notebook\n",
    "\n",
    "This notebook demonstrates basic implementations of all the libraries mentioned in the resume.\n",
    "\n",
    "**Libraries covered:**\n",
    "- LangChain\n",
    "- Pandas\n",
    "- NumPy\n",
    "- TensorFlow\n",
    "- Streamlit\n",
    "- Pinecone\n",
    "- Scikit-learn\n",
    "- Keras\n",
    "- BERT\n",
    "- Fast API\n",
    "- Django"
   ]
  },
  {
   "cell_type": "markdown",
   "metadata": {},
   "source": [
    "## LangChain - Basic Example"
   ]
  },
  {
   "cell_type": "code",
   "execution_count": null,
   "metadata": {},
   "outputs": [],
   "source": [
    "# LangChain example (mock, requires API keys and setup)\n",
    "# from langchain.llms import OpenAI\n",
    "# llm = OpenAI(temperature=0.7)\n",
    "# print(llm(\"Write a short poem about AI\"))\n",
    "print(\"LangChain example placeholder - requires API setup\")"
   ]
  },
  {
   "cell_type": "markdown",
   "metadata": {},
   "source": [
    "## Pandas - Basic Example"
   ]
  },
  {
   "cell_type": "code",
   "execution_count": null,
   "metadata": {},
   "outputs": [],
   "source": [
    "import pandas as pd\n",
    "\n",
    "# Create a simple DataFrame\n",
    "df = pd.DataFrame({\n",
    "    'Name': ['Alice', 'Bob', 'Charlie'],\n",
    "    'Age': [25, 30, 35]\n",
    "})\n",
    "print(df)"
   ]
  },
  {
   "cell_type": "markdown",
   "metadata": {},
   "source": [
    "## NumPy - Basic Example"
   ]
  },
  {
   "cell_type": "code",
   "execution_count": null,
   "metadata": {},
   "outputs": [],
   "source": [
    "import numpy as np\n",
    "\n",
    "# Create a NumPy array\n",
    "arr = np.array([1, 2, 3, 4, 5])\n",
    "print(\"Array:\", arr)\n",
    "print(\"Mean:\", np.mean(arr))"
   ]
  },
  {
   "cell_type": "markdown",
   "metadata": {},
   "source": [
    "## TensorFlow - Basic Example"
   ]
  },
  {
   "cell_type": "code",
   "execution_count": null,
   "metadata": {},
   "outputs": [],
   "source": [
    "import tensorflow as tf\n",
    "\n",
    "# Simple TensorFlow constant\n",
    "hello = tf.constant(\"Hello TensorFlow\")\n",
    "print(hello.numpy().decode())"
   ]
  },
  {
   "cell_type": "markdown",
   "metadata": {},
   "source": [
    "## Streamlit - Basic Example"
   ]
  },
  {
   "cell_type": "code",
   "execution_count": null,
   "metadata": {},
   "outputs": [],
   "source": [
    "# Streamlit apps are run via `streamlit run script.py`\n",
    "# Example code:\n",
    "# import streamlit as st\n",
    "# st.title(\"Hello Streamlit\")\n",
    "print(\"Streamlit example placeholder - run separately as an app\")"
   ]
  },
  {
   "cell_type": "markdown",
   "metadata": {},
   "source": [
    "## Pinecone - Basic Example"
   ]
  },
  {
   "cell_type": "code",
   "execution_count": null,
   "metadata": {},
   "outputs": [],
   "source": [
    "# Pinecone example (mock, requires API keys)\n",
    "# import pinecone\n",
    "# pinecone.init(api_key=\"your-key\", environment=\"us-west1-gcp\")\n",
    "print(\"Pinecone example placeholder - requires API setup\")"
   ]
  },
  {
   "cell_type": "markdown",
   "metadata": {},
   "source": [
    "## Scikit-learn - Basic Example"
   ]
  },
  {
   "cell_type": "code",
   "execution_count": null,
   "metadata": {},
   "outputs": [],
   "source": [
    "from sklearn.linear_model import LinearRegression\n",
    "import numpy as np\n",
    "\n",
    "# Example regression\n",
    "X = np.array([[1], [2], [3], [4]])\n",
    "y = np.array([2, 4, 6, 8])\n",
    "model = LinearRegression().fit(X, y)\n",
    "print(\"Prediction for 5:\", model.predict([[5]]))"
   ]
  },
  {
   "cell_type": "markdown",
   "metadata": {},
   "source": [
    "## Keras - Basic Example"
   ]
  },
  {
   "cell_type": "code",
   "execution_count": null,
   "metadata": {},
   "outputs": [],
   "source": [
    "from tensorflow import keras\n",
    "from tensorflow.keras import layers\n",
    "\n",
    "# Simple Sequential model\n",
    "model = keras.Sequential([\n",
    "    layers.Dense(10, activation='relu', input_shape=(5,)),\n",
    "    layers.Dense(1)\n",
    "])\n",
    "model.summary()"
   ]
  },
  {
   "cell_type": "markdown",
   "metadata": {},
   "source": [
    "## BERT - Basic Example"
   ]
  },
  {
   "cell_type": "code",
   "execution_count": null,
   "metadata": {},
   "outputs": [],
   "source": [
    "# Example using BERT from transformers\n",
    "# from transformers import BertTokenizer, BertModel\n",
    "# tokenizer = BertTokenizer.from_pretrained('bert-base-uncased')\n",
    "# model = BertModel.from_pretrained('bert-base-uncased')\n",
    "print(\"BERT example placeholder - requires transformers library\")"
   ]
  },
  {
   "cell_type": "markdown",
   "metadata": {},
   "source": [
    "## FastAPI - Basic Example"
   ]
  },
  {
   "cell_type": "code",
   "execution_count": null,
   "metadata": {},
   "outputs": [],
   "source": [
    "# FastAPI example\n",
    "# Save as main.py and run: uvicorn main:app --reload\n",
    "# from fastapi import FastAPI\n",
    "# app = FastAPI()\n",
    "#\n",
    "# @app.get(\"/\")\n",
    "# def read_root():\n",
    "#     return {\"message\": \"Hello FastAPI\"}\n",
    "print(\"FastAPI example placeholder - run separately with uvicorn\")"
   ]
  },
  {
   "cell_type": "markdown",
   "metadata": {},
   "source": [
    "## Django - Basic Example"
   ]
  },
  {
   "cell_type": "code",
   "execution_count": null,
   "metadata": {},
   "outputs": [],
   "source": [
    "# Django example\n",
    "# Run: django-admin startproject myproject\n",
    "# python manage.py runserver\n",
    "print(\"Django example placeholder - run as a project\")"
   ]
  }
 ],
 "metadata": {
  "kernelspec": {
   "display_name": "Python 3",
   "language": "python",
   "name": "python3"
  },
  "language_info": {
   "name": "python",
   "version": "3.x"
  }
 },
 "nbformat": 4,
 "nbformat_minor": 5
}
