{
 "cells": [
  {
   "cell_type": "code",
   "execution_count": 2,
   "metadata": {},
   "outputs": [],
   "source": [
    "# immporting requied liberaries \n",
    "\n",
    "import mysql.connector\n",
    "from mysql.connector import Error \n",
    "import pandas as pd "
   ]
  },
  {
   "cell_type": "code",
   "execution_count": 3,
   "metadata": {},
   "outputs": [
    {
     "name": "stdout",
     "output_type": "stream",
     "text": [
      "Mysql connection succesfull \n"
     ]
    }
   ],
   "source": [
    "# get connected to the server \n",
    "\n",
    "def create_server_connection (host_name,user_name,user_password): \n",
    "    connection = None\n",
    "    try :\n",
    "        connection = mysql.connector.connect(\n",
    "            host = host_name,\n",
    "            user = user_name,\n",
    "            passwd = user_password\n",
    "        )\n",
    "        print(\"Mysql connection succesfull \")\n",
    "    except Error as err : \n",
    "        print(f\"Error : '{err}'\")  \n",
    "    return connection\n",
    "sql_pass =\"@sql\" \n",
    "\n",
    "connection = create_server_connection(\"localhost\",\"root\",sql_pass)     "
   ]
  },
  {
   "cell_type": "code",
   "execution_count": 4,
   "metadata": {},
   "outputs": [
    {
     "name": "stdout",
     "output_type": "stream",
     "text": [
      "Error : '1007 (HY000): Can't create database 'mysql_python'; database exists'\n"
     ]
    }
   ],
   "source": [
    "# creating database \"mysql_pyhton\"\n",
    "\n",
    "def create_database(connection,query):\n",
    "    cursor = connection.cursor()\n",
    "    try:\n",
    "        cursor.execute (query)\n",
    "        print(\"database created succesfully\")\n",
    "    except Error as err : \n",
    "        print(f\"Error : '{err}'\") \n",
    "create_database_query = \"Create database mysql_python\"      \n",
    "\n",
    "database = create_database(connection, create_database_query)"
   ]
  },
  {
   "cell_type": "code",
   "execution_count": 5,
   "metadata": {},
   "outputs": [],
   "source": [
    "# conect to database \n",
    "\n",
    "def create_database_connection (host_name,user_name,user_password,database_name): \n",
    "    connection = None\n",
    "    try :\n",
    "        connection = mysql.connector.connect(\n",
    "            host = host_name,\n",
    "            user = user_name,\n",
    "            passwd = user_password,\n",
    "            database= database_name\n",
    "        )\n",
    "        print(\"Mysql connection succesfull \")\n",
    "    except Error as err : \n",
    "        print(f\"Error : '{err}'\")  \n",
    "    return connection\n",
    "\n"
   ]
  },
  {
   "cell_type": "code",
   "execution_count": 6,
   "metadata": {},
   "outputs": [],
   "source": [
    "# execute sql query \n",
    "\n",
    "def execute_query(connection,query):\n",
    "    cursor = connection.cursor()\n",
    "    try:\n",
    "        cursor = cursor.execute(query)\n",
    "        connection.commit()\n",
    "        print(\"Query was succesfull\")\n",
    "    except Error as err : \n",
    "        print(f\"Error: '{err}'\")    \n",
    "    "
   ]
  },
  {
   "cell_type": "code",
   "execution_count": 7,
   "metadata": {},
   "outputs": [
    {
     "name": "stdout",
     "output_type": "stream",
     "text": [
      "Mysql connection succesfull \n",
      "Error: '1050 (42S01): Table 'customers' already exists'\n"
     ]
    }
   ],
   "source": [
    "create_orders_table=\"\"\"\n",
    "CREATE TABLE customers (\n",
    "  id INT UNSIGNED AUTO_INCREMENT PRIMARY KEY,\n",
    "  name VARCHAR(255) NOT NULL,\n",
    "  email VARCHAR(255) UNIQUE,\n",
    "  created_at DATETIME DEFAULT CURRENT_TIMESTAMP\n",
    ");\n",
    "\"\"\"\n",
    "\n",
    "connection = create_database_connection(\"localhost\",\"root\",sql_pass,database_name=\"mysql_python\")\n",
    "execute_query(connection,create_orders_table)"
   ]
  },
  {
   "cell_type": "code",
   "execution_count": 8,
   "metadata": {},
   "outputs": [
    {
     "name": "stdout",
     "output_type": "stream",
     "text": [
      "Mysql connection succesfull \n",
      "Error: '1062 (23000): Duplicate entry 'janedoe@example.com' for key 'customers.email''\n"
     ]
    }
   ],
   "source": [
    "# inserting data \n",
    "\n",
    "data = \"\"\"\n",
    "INSERT INTO customers (name, email)\n",
    "VALUES ('Jane Doe', 'janedoe@example.com');\n",
    "\"\"\"\n",
    "connection = create_database_connection(\"localhost\",\"root\",sql_pass,database_name=\"mysql_python\")\n",
    "execute_query(connection,data)"
   ]
  },
  {
   "cell_type": "code",
   "execution_count": 9,
   "metadata": {},
   "outputs": [],
   "source": [
    "# to display the data \n",
    "\n",
    "def read_query(connection,query):\n",
    "    cursor = connection.cursor()\n",
    "    result = None\n",
    "    try:\n",
    "        cursor.execute(query)\n",
    "        result =cursor.fetchall()\n",
    "        return result\n",
    "    except Error as err : \n",
    "        print(f\"Error : '{err}'\")"
   ]
  },
  {
   "cell_type": "code",
   "execution_count": 10,
   "metadata": {},
   "outputs": [
    {
     "name": "stdout",
     "output_type": "stream",
     "text": [
      "Mysql connection succesfull \n"
     ]
    },
    {
     "data": {
      "text/html": [
       "<div>\n",
       "<style scoped>\n",
       "    .dataframe tbody tr th:only-of-type {\n",
       "        vertical-align: middle;\n",
       "    }\n",
       "\n",
       "    .dataframe tbody tr th {\n",
       "        vertical-align: top;\n",
       "    }\n",
       "\n",
       "    .dataframe thead th {\n",
       "        text-align: right;\n",
       "    }\n",
       "</style>\n",
       "<table border=\"1\" class=\"dataframe\">\n",
       "  <thead>\n",
       "    <tr style=\"text-align: right;\">\n",
       "      <th></th>\n",
       "      <th>s.no</th>\n",
       "      <th>name</th>\n",
       "      <th>email</th>\n",
       "      <th>date and time</th>\n",
       "    </tr>\n",
       "  </thead>\n",
       "  <tbody>\n",
       "    <tr>\n",
       "      <th>0</th>\n",
       "      <td>1</td>\n",
       "      <td>Jane Doe</td>\n",
       "      <td>janedoe@example.com</td>\n",
       "      <td>2024-03-30 17:12:28</td>\n",
       "    </tr>\n",
       "    <tr>\n",
       "      <th>1</th>\n",
       "      <td>2</td>\n",
       "      <td>Alice Smith</td>\n",
       "      <td>alice@example.com</td>\n",
       "      <td>2024-03-31 08:15:19</td>\n",
       "    </tr>\n",
       "    <tr>\n",
       "      <th>2</th>\n",
       "      <td>3</td>\n",
       "      <td>Bob Johnson</td>\n",
       "      <td>bob@example.com</td>\n",
       "      <td>2024-03-31 08:15:20</td>\n",
       "    </tr>\n",
       "    <tr>\n",
       "      <th>3</th>\n",
       "      <td>4</td>\n",
       "      <td>Charlie Brown</td>\n",
       "      <td>charlie@example.com</td>\n",
       "      <td>2024-03-31 08:15:22</td>\n",
       "    </tr>\n",
       "    <tr>\n",
       "      <th>4</th>\n",
       "      <td>5</td>\n",
       "      <td>David Miller</td>\n",
       "      <td>david@example.com</td>\n",
       "      <td>2024-03-31 08:15:24</td>\n",
       "    </tr>\n",
       "    <tr>\n",
       "      <th>5</th>\n",
       "      <td>6</td>\n",
       "      <td>Emily Garcia</td>\n",
       "      <td>emily@example.com</td>\n",
       "      <td>2024-03-31 08:15:25</td>\n",
       "    </tr>\n",
       "    <tr>\n",
       "      <th>6</th>\n",
       "      <td>7</td>\n",
       "      <td>Frank Thomas</td>\n",
       "      <td>frank@example.com</td>\n",
       "      <td>2024-03-31 08:15:26</td>\n",
       "    </tr>\n",
       "    <tr>\n",
       "      <th>7</th>\n",
       "      <td>8</td>\n",
       "      <td>Grace Williams</td>\n",
       "      <td>grace@example.com</td>\n",
       "      <td>2024-03-31 08:15:28</td>\n",
       "    </tr>\n",
       "    <tr>\n",
       "      <th>8</th>\n",
       "      <td>9</td>\n",
       "      <td>Henry Moore</td>\n",
       "      <td>henry@example.com</td>\n",
       "      <td>2024-03-31 08:15:29</td>\n",
       "    </tr>\n",
       "    <tr>\n",
       "      <th>9</th>\n",
       "      <td>10</td>\n",
       "      <td>Isabella Young</td>\n",
       "      <td>isabella@example.com</td>\n",
       "      <td>2024-03-31 08:15:30</td>\n",
       "    </tr>\n",
       "    <tr>\n",
       "      <th>10</th>\n",
       "      <td>12</td>\n",
       "      <td>Jack Jackson</td>\n",
       "      <td>jack@example.com</td>\n",
       "      <td>2024-03-31 08:15:39</td>\n",
       "    </tr>\n",
       "  </tbody>\n",
       "</table>\n",
       "</div>"
      ],
      "text/plain": [
       "    s.no            name                 email      date and time \n",
       "0      1        Jane Doe   janedoe@example.com 2024-03-30 17:12:28\n",
       "1      2     Alice Smith     alice@example.com 2024-03-31 08:15:19\n",
       "2      3     Bob Johnson       bob@example.com 2024-03-31 08:15:20\n",
       "3      4   Charlie Brown   charlie@example.com 2024-03-31 08:15:22\n",
       "4      5    David Miller     david@example.com 2024-03-31 08:15:24\n",
       "5      6    Emily Garcia     emily@example.com 2024-03-31 08:15:25\n",
       "6      7    Frank Thomas     frank@example.com 2024-03-31 08:15:26\n",
       "7      8  Grace Williams     grace@example.com 2024-03-31 08:15:28\n",
       "8      9     Henry Moore     henry@example.com 2024-03-31 08:15:29\n",
       "9     10  Isabella Young  isabella@example.com 2024-03-31 08:15:30\n",
       "10    12    Jack Jackson      jack@example.com 2024-03-31 08:15:39"
      ]
     },
     "execution_count": 10,
     "metadata": {},
     "output_type": "execute_result"
    }
   ],
   "source": [
    "# using select \n",
    "q1 = \"\"\"\n",
    "SELECT * FROM customers \"\"\"\n",
    "\n",
    "connection = create_database_connection(\"localhost\",\"root\",sql_pass,database_name=\"mysql_python\")\n",
    "results = read_query(connection,q1)\n",
    "\n",
    "dataframe = pd.DataFrame(results,columns=[\"s.no\",\"name\",\"email\",\"date and time \"])\n",
    "dataframe    \n"
   ]
  },
  {
   "cell_type": "code",
   "execution_count": null,
   "metadata": {},
   "outputs": [],
   "source": []
  }
 ],
 "metadata": {
  "kernelspec": {
   "display_name": "Python 3",
   "language": "python",
   "name": "python3"
  },
  "language_info": {
   "codemirror_mode": {
    "name": "ipython",
    "version": 3
   },
   "file_extension": ".py",
   "mimetype": "text/x-python",
   "name": "python",
   "nbconvert_exporter": "python",
   "pygments_lexer": "ipython3",
   "version": "3.12.0"
  }
 },
 "nbformat": 4,
 "nbformat_minor": 2
}
