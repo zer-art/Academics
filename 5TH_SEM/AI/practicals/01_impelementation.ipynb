{
 "cells": [
  {
   "cell_type": "markdown",
   "id": "5673a857",
   "metadata": {},
   "source": [
    "# Python Library Implementations\n",
    "\n",
    "This notebook demonstrates basic usage of the following libraries:\n",
    "\n",
    "- LangChain\n",
    "- LangGraph\n",
    "- Matplotlib\n",
    "- Pandas\n",
    "- NumPy\n",
    "- scikit-learn\n",
    "- TensorFlow\n",
    "- OpenCV\n",
    "- Streamlit\n",
    "- FastAPI\n",
    "- Django\n",
    "\n",
    "Each code cell below shows a minimal example for each library."
   ]
  },
  {
   "cell_type": "code",
   "execution_count": null,
   "id": "8ae65d3d",
   "metadata": {},
   "outputs": [],
   "source": [
    "# LangChain Example (requires installation and API keys)\n",
    "from langchain.llms import OpenAI\n",
    "llm = OpenAI(model_name=\"text-davinci-003\")\n",
    "response = llm(\"What is LangChain?\")\n",
    "print(response)"
   ]
  },
  {
   "cell_type": "code",
   "execution_count": 2,
   "id": "686f2bf7",
   "metadata": {},
   "outputs": [
    {
     "ename": "ModuleNotFoundError",
     "evalue": "No module named 'langgraph'",
     "output_type": "error",
     "traceback": [
      "\u001b[31m---------------------------------------------------------------------------\u001b[39m",
      "\u001b[31mModuleNotFoundError\u001b[39m                       Traceback (most recent call last)",
      "\u001b[36mCell\u001b[39m\u001b[36m \u001b[39m\u001b[32mIn[2]\u001b[39m\u001b[32m, line 2\u001b[39m\n\u001b[32m      1\u001b[39m \u001b[38;5;66;03m# LangGraph Example (requires installation)\u001b[39;00m\n\u001b[32m----> \u001b[39m\u001b[32m2\u001b[39m \u001b[38;5;28;01mimport\u001b[39;00m\u001b[38;5;250m \u001b[39m\u001b[34;01mlanggraph\u001b[39;00m\n\u001b[32m      3\u001b[39m graph = langgraph.Graph()\n\u001b[32m      4\u001b[39m graph.add_node(\u001b[33m\"\u001b[39m\u001b[33mstart\u001b[39m\u001b[33m\"\u001b[39m)\n",
      "\u001b[31mModuleNotFoundError\u001b[39m: No module named 'langgraph'"
     ]
    }
   ],
   "source": [
    "\n",
    "# LangGraph Example (requires installation)\n",
    "import langgraph\n",
    "graph = langgraph.Graph()\n",
    "graph.add_node(\"start\")\n",
    "print(graph.nodes)"
   ]
  },
  {
   "cell_type": "code",
   "execution_count": 3,
   "id": "df74fffb",
   "metadata": {},
   "outputs": [
    {
     "data": {
      "image/png": "[encoded data removed]",
      "text/plain": [
       "<Figure size 640x480 with 1 Axes>"
      ]
     },
     "metadata": {},
     "output_type": "display_data"
    }
   ],
   "source": [
    "# Matplotlib Example\n",
    "import matplotlib.pyplot as plt\n",
    "plt.plot([1,2,3],[4,5,6])\n",
    "plt.title(\"Matplotlib Example\")\n",
    "plt.show()"
   ]
  },
  {
   "cell_type": "code",
   "execution_count": 4,
   "id": "b5153eb5",
   "metadata": {},
   "outputs": [
    {
     "name": "stdout",
     "output_type": "stream",
     "text": [
      "   A  B\n",
      "0  1  3\n",
      "1  2  4\n"
     ]
    }
   ],
   "source": [
    "# Pandas Example\n",
    "import pandas as pd\n",
    "df = pd.DataFrame({'A':[1,2],'B':[3,4]})\n",
    "print(df)\n"
   ]
  },
  {
   "cell_type": "code",
   "execution_count": 5,
   "id": "1c3dc6df",
   "metadata": {},
   "outputs": [
    {
     "name": "stdout",
     "output_type": "stream",
     "text": [
      "[2 4 6]\n"
     ]
    }
   ],
   "source": [
    "# NumPy Example\n",
    "import numpy as np\n",
    "arr = np.array([1,2,3])\n",
    "print(arr * 2)"
   ]
  },
  {
   "cell_type": "code",
   "execution_count": 6,
   "id": "204ffc80",
   "metadata": {},
   "outputs": [
    {
     "name": "stdout",
     "output_type": "stream",
     "text": [
      "[3.]\n"
     ]
    }
   ],
   "source": [
    "# scikit-learn Example\n",
    "from sklearn.linear_model import LinearRegression\n",
    "model = LinearRegression()\n",
    "X = [[0],[1],[2]]\n",
    "y = [0,1,2]\n",
    "model.fit(X, y)\n",
    "print(model.predict([[3]]))"
   ]
  },
  {
   "cell_type": "code",
   "execution_count": 7,
   "id": "314572ab",
   "metadata": {},
   "outputs": [
    {
     "name": "stderr",
     "output_type": "stream",
     "text": [
      "2025-08-31 21:32:18.725559: I external/local_xla/xla/tsl/cuda/cudart_stub.cc:31] Could not find cuda drivers on your machine, GPU will not be used.\n",
      "2025-08-31 21:32:19.806386: I tensorflow/core/platform/cpu_feature_guard.cc:210] This TensorFlow binary is optimized to use available CPU instructions in performance-critical operations.\n",
      "To enable the following instructions: AVX2 FMA, in other operations, rebuild TensorFlow with the appropriate compiler flags.\n",
      "2025-08-31 21:32:24.748553: I external/local_xla/xla/tsl/cuda/cudart_stub.cc:31] Could not find cuda drivers on your machine, GPU will not be used.\n",
      "2025-08-31 21:32:24.748553: I external/local_xla/xla/tsl/cuda/cudart_stub.cc:31] Could not find cuda drivers on your machine, GPU will not be used.\n"
     ]
    },
    {
     "name": "stdout",
     "output_type": "stream",
     "text": [
      "tf.Tensor(5, shape=(), dtype=int32)\n"
     ]
    },
    {
     "name": "stderr",
     "output_type": "stream",
     "text": [
      "2025-08-31 21:32:25.705381: E external/local_xla/xla/stream_executor/cuda/cuda_platform.cc:51] failed call to cuInit: INTERNAL: CUDA error: Failed call to cuInit: UNKNOWN ERROR (303)\n"
     ]
    }
   ],
   "source": [
    "# TensorFlow Example\n",
    "import tensorflow as tf\n",
    "a = tf.constant(2)\n",
    "b = tf.constant(3)\n",
    "print(tf.add(a, b))"
   ]
  },
  {
   "cell_type": "code",
   "execution_count": 8,
   "id": "c4d130cb",
   "metadata": {},
   "outputs": [
    {
     "ename": "ModuleNotFoundError",
     "evalue": "No module named 'cv2'",
     "output_type": "error",
     "traceback": [
      "\u001b[31m---------------------------------------------------------------------------\u001b[39m",
      "\u001b[31mModuleNotFoundError\u001b[39m                       Traceback (most recent call last)",
      "\u001b[36mCell\u001b[39m\u001b[36m \u001b[39m\u001b[32mIn[8]\u001b[39m\u001b[32m, line 2\u001b[39m\n\u001b[32m      1\u001b[39m \u001b[38;5;66;03m# OpenCV Example\u001b[39;00m\n\u001b[32m----> \u001b[39m\u001b[32m2\u001b[39m \u001b[38;5;28;01mimport\u001b[39;00m\u001b[38;5;250m \u001b[39m\u001b[34;01mcv2\u001b[39;00m\n\u001b[32m      3\u001b[39m \u001b[38;5;28;01mimport\u001b[39;00m\u001b[38;5;250m \u001b[39m\u001b[34;01mnumpy\u001b[39;00m\u001b[38;5;250m \u001b[39m\u001b[38;5;28;01mas\u001b[39;00m\u001b[38;5;250m \u001b[39m\u001b[34;01mnp\u001b[39;00m\n\u001b[32m      4\u001b[39m img = np.zeros((\u001b[32m100\u001b[39m,\u001b[32m100\u001b[39m,\u001b[32m3\u001b[39m), np.uint8)\n",
      "\u001b[31mModuleNotFoundError\u001b[39m: No module named 'cv2'"
     ]
    }
   ],
   "source": [
    "# OpenCV Example\n",
    "import cv2\n",
    "import numpy as np\n",
    "img = np.zeros((100,100,3), np.uint8)\n",
    "cv2.circle(img, (50,50), 30, (255,0,0), -1)\n",
    "cv2.imwrite('circle.png', img)\n"
   ]
  },
  {
   "cell_type": "code",
   "execution_count": null,
   "id": "dadf27e3",
   "metadata": {},
   "outputs": [],
   "source": [
    "# Streamlit Example (run with: streamlit run <filename>)\n",
    "import streamlit as st\n",
    "st.write(\"Hello, Streamlit!\")"
   ]
  },
  {
   "cell_type": "code",
   "execution_count": 9,
   "id": "772f61ca",
   "metadata": {},
   "outputs": [],
   "source": [
    "# FastAPI Example (run with: uvicorn <filename>:app)\n",
    "from fastapi import FastAPI\n",
    "app = FastAPI()\n",
    "@app.get(\"/\")\n",
    "def read_root():\n",
    "    return {\"Hello\": \"FastAPI\"}"
   ]
  },
  {
   "cell_type": "code",
   "execution_count": null,
   "id": "a3acd7db",
   "metadata": {},
   "outputs": [],
   "source": [
    "\n",
    "\n",
    "# Django Example (run with: python manage.py runserver)\n",
    "from django.http import HttpResponse\n",
    "def hello(request):\n",
    "    return HttpResponse(\"Hello, Django!\")"
   ]
  },
  {
   "cell_type": "code",
   "execution_count": null,
   "id": "e9d333ba",
   "metadata": {},
   "outputs": [],
   "source": []
  }
 ],
 "metadata": {
  "kernelspec": {
   "display_name": "academics",
   "language": "python",
   "name": "python3"
  },
  "language_info": {
   "codemirror_mode": {
    "name": "ipython",
    "version": 3
   },
   "file_extension": ".py",
   "mimetype": "text/x-python",
   "name": "python",
   "nbconvert_exporter": "python",
   "pygments_lexer": "ipython3",
   "version": "3.12.11"
  }
 },
 "nbformat": 4,
 "nbformat_minor": 5
}
