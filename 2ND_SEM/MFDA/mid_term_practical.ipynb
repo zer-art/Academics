{
 "cells": [
  {
   "cell_type": "markdown",
   "metadata": {},
   "source": [
    "# MIDTERM PRACTICALS #"
   ]
  },
  {
   "cell_type": "markdown",
   "metadata": {},
   "source": [
    "***Ques1) Expand sin(x) in power of x-pi/2 for partial derivative***\n"
   ]
  },
  {
   "cell_type": "markdown",
   "metadata": {},
   "source": [
    "**IMPORTING REQUIED MODULES**"
   ]
  },
  {
   "cell_type": "code",
   "execution_count": 2,
   "metadata": {},
   "outputs": [],
   "source": [
    "import sympy as sp\n",
    "from sympy import symbols, diff, pretty_print, factorial, exp\n",
    "import math \n",
    "import numpy as np"
   ]
  },
  {
   "cell_type": "markdown",
   "metadata": {},
   "source": [
    "**defining symbols**"
   ]
  },
  {
   "cell_type": "code",
   "execution_count": 3,
   "metadata": {},
   "outputs": [],
   "source": [
    "x,y,pi = sp.symbols(\"x y pi\")"
   ]
  },
  {
   "cell_type": "markdown",
   "metadata": {},
   "source": [
    "**declaring variables**"
   ]
  },
  {
   "cell_type": "code",
   "execution_count": 4,
   "metadata": {},
   "outputs": [
    {
     "data": {
      "text/latex": [
       "$\\displaystyle 1$"
      ],
      "text/plain": [
       "1"
      ]
     },
     "execution_count": 4,
     "metadata": {},
     "output_type": "execute_result"
    }
   ],
   "source": [
    "n=15\n",
    "x0 = sp.pi/2\n",
    "func = sp.sin(x)\n",
    "r = func.subs(x,x0)\n",
    "r\n"
   ]
  },
  {
   "cell_type": "markdown",
   "metadata": {},
   "source": [
    "**intialising code**"
   ]
  },
  {
   "cell_type": "code",
   "execution_count": 5,
   "metadata": {},
   "outputs": [
    {
     "name": "stdout",
     "output_type": "stream",
     "text": [
      "taylor series :\n"
     ]
    },
    {
     "data": {
      "text/latex": [
       "$\\displaystyle - \\frac{\\left(x - \\frac{\\pi}{2}\\right)^{14}}{87178291200} + \\frac{\\left(x - \\frac{\\pi}{2}\\right)^{12}}{479001600} - \\frac{\\left(x - \\frac{\\pi}{2}\\right)^{10}}{3628800} + \\frac{\\left(x - \\frac{\\pi}{2}\\right)^{8}}{40320} - \\frac{\\left(x - \\frac{\\pi}{2}\\right)^{6}}{720} + \\frac{\\left(x - \\frac{\\pi}{2}\\right)^{4}}{24} - \\frac{\\left(x - \\frac{\\pi}{2}\\right)^{2}}{2} + 1$"
      ],
      "text/plain": [
       "-(x - pi/2)**14/87178291200 + (x - pi/2)**12/479001600 - (x - pi/2)**10/3628800 + (x - pi/2)**8/40320 - (x - pi/2)**6/720 + (x - pi/2)**4/24 - (x - pi/2)**2/2 + 1"
      ]
     },
     "execution_count": 5,
     "metadata": {},
     "output_type": "execute_result"
    }
   ],
   "source": [
    "for i in range(1,n):\n",
    "    r+= diff(func,x,i).subs(x,x0) * ((x - x0)**i)/(factorial(i))\n",
    "\n",
    "print(f\"taylor series :\") \n",
    "r   "
   ]
  },
  {
   "cell_type": "markdown",
   "metadata": {},
   "source": [
    "***QUES2) FIND THE SECOND $\\frac{∂^3𝑓}{∂xy^2}$***"
   ]
  },
  {
   "cell_type": "code",
   "execution_count": 6,
   "metadata": {},
   "outputs": [
    {
     "data": {
      "text/latex": [
       "$\\displaystyle \\frac{6.0 x y}{\\left(x + y\\right) \\left(x^{2} + y^{2}\\right)^{2.5}} + \\frac{2.0 x}{\\left(x + y\\right)^{2} \\left(x^{2} + y^{2}\\right)^{1.5}} - y \\left(\\frac{15.0 x^{2}}{\\left(x^{2} + y^{2}\\right)^{3.5}} - \\frac{3.0}{\\left(x^{2} + y^{2}\\right)^{2.5}}\\right) \\log{\\left(x + y \\right)} + \\frac{1.0 y}{\\left(x + y\\right)^{2} \\left(x^{2} + y^{2}\\right)^{1.5}} + \\frac{\\frac{3.0 x^{2}}{\\left(x^{2} + y^{2}\\right)^{2.5}} - \\frac{1.0}{\\left(x^{2} + y^{2}\\right)^{1.5}}}{x + y} + \\frac{2}{\\left(x + y\\right)^{3} \\left(x^{2} + y^{2}\\right)^{0.5}}$"
      ],
      "text/plain": [
       "6.0*x*y/((x + y)*(x**2 + y**2)**2.5) + 2.0*x/((x + y)**2*(x**2 + y**2)**1.5) - y*(15.0*x**2/(x**2 + y**2)**3.5 - 3.0/(x**2 + y**2)**2.5)*log(x + y) + 1.0*y/((x + y)**2*(x**2 + y**2)**1.5) + (3.0*x**2/(x**2 + y**2)**2.5 - 1.0/(x**2 + y**2)**1.5)/(x + y) + 2/((x + y)**3*(x**2 + y**2)**0.5)"
      ]
     },
     "execution_count": 6,
     "metadata": {},
     "output_type": "execute_result"
    }
   ],
   "source": [
    "fx=sp.log(x+y)*(x**2+y**2)**(-1/2)\n",
    "derivate = diff(fx,y,x,2)\n",
    "derivate \n"
   ]
  },
  {
   "cell_type": "markdown",
   "metadata": {},
   "source": [
    "***QUES3) find the critical point for f(x) = $\\frac|{(x-2)^2}{(x+1)^2}$***"
   ]
  },
  {
   "cell_type": "code",
   "execution_count": 7,
   "metadata": {},
   "outputs": [
    {
     "data": {
      "text/plain": [
       "[3, 24/7, 4]"
      ]
     },
     "execution_count": 7,
     "metadata": {},
     "output_type": "execute_result"
    }
   ],
   "source": [
    "fx1 = ((x-4)**4)*((x-3)**3)\n",
    "derivate1 = diff(fx1,x,1)\n",
    "derivate1\n",
    "critical_points = sp.solve(derivate1)\n",
    "critical_points"
   ]
  }
 ],
 "metadata": {
  "kernelspec": {
   "display_name": "Python 3",
   "language": "python",
   "name": "python3"
  },
  "language_info": {
   "codemirror_mode": {
    "name": "ipython",
    "version": 3
   },
   "file_extension": ".py",
   "mimetype": "text/x-python",
   "name": "python",
   "nbconvert_exporter": "python",
   "pygments_lexer": "ipython3",
   "version": "3.12.3"
  }
 },
 "nbformat": 4,
 "nbformat_minor": 2
}
