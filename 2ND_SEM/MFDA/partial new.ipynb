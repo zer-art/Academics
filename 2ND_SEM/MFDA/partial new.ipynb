{
 "cells": [
  {
   "cell_type": "code",
   "execution_count": 1,
   "id": "ffcf742b",
   "metadata": {},
   "outputs": [],
   "source": [
    "from sympy import *\n",
    "from sympy.abc import x,y\n",
    "init_printing()"
   ]
  },
  {
   "cell_type": "code",
   "execution_count": 4,
   "id": "3ba01972",
   "metadata": {},
   "outputs": [
    {
     "data": {
      "image/png": "[encoded data removed]",
      "text/latex": [
       "$\\displaystyle x^{3} - 6 x y + y^{3}$"
      ],
      "text/plain": [
       " 3            3\n",
       "x  - 6⋅x⋅y + y "
      ]
     },
     "execution_count": 4,
     "metadata": {},
     "output_type": "execute_result"
    }
   ],
   "source": [
    "F=x**3+y**3-6*x*y\n",
    "F"
   ]
  },
  {
   "cell_type": "code",
   "execution_count": 6,
   "id": "baf1e083",
   "metadata": {},
   "outputs": [
    {
     "data": {
      "image/png": "[encoded data removed]",
      "text/latex": [
       "$\\displaystyle 3 x^{2} - 6 y$"
      ],
      "text/plain": [
       "   2      \n",
       "3⋅x  - 6⋅y"
      ]
     },
     "execution_count": 6,
     "metadata": {},
     "output_type": "execute_result"
    }
   ],
   "source": [
    "Fx=diff(F,x)\n",
    "Fx"
   ]
  },
  {
   "cell_type": "code",
   "execution_count": 7,
   "id": "ae8ded3a",
   "metadata": {},
   "outputs": [
    {
     "data": {
      "image/png": "[encoded data removed]",
      "text/latex": [
       "$\\displaystyle - 6 x + 3 y^{2}$"
      ],
      "text/plain": [
       "          2\n",
       "-6⋅x + 3⋅y "
      ]
     },
     "execution_count": 7,
     "metadata": {},
     "output_type": "execute_result"
    }
   ],
   "source": [
    "Fy=diff(F,y)\n",
    "Fy"
   ]
  },
  {
   "cell_type": "code",
   "execution_count": 8,
   "id": "cea0f912",
   "metadata": {},
   "outputs": [
    {
     "data": {
      "image/png": "[encoded data removed]",
      "text/latex": [
       "$\\displaystyle \\frac{x^{2} - 2 y}{2 x - y^{2}}$"
      ],
      "text/plain": [
       " 2      \n",
       "x  - 2⋅y\n",
       "────────\n",
       "       2\n",
       "2⋅x - y "
      ]
     },
     "execution_count": 8,
     "metadata": {},
     "output_type": "execute_result"
    }
   ],
   "source": [
    "simplify(-Fx/Fy)"
   ]
  },
  {
   "cell_type": "code",
   "execution_count": 11,
   "id": "2050b939",
   "metadata": {},
   "outputs": [
    {
     "data": {
      "image/png": "[encoded data removed]",
      "text/latex": [
       "$\\displaystyle \\frac{x^{2} - 2 y}{2 x - y^{2}}$"
      ],
      "text/plain": [
       " 2      \n",
       "x  - 2⋅y\n",
       "────────\n",
       "       2\n",
       "2⋅x - y "
      ]
     },
     "execution_count": 11,
     "metadata": {},
     "output_type": "execute_result"
    }
   ],
   "source": [
    "#using implicit differentiation function to get the result directly\n",
    "idiff(F,y, x)"
   ]
  }
 ],
 "metadata": {
  "kernelspec": {
   "display_name": "Python 3 (ipykernel)",
   "language": "python",
   "name": "python3"
  },
  "language_info": {
   "codemirror_mode": {
    "name": "ipython",
    "version": 3
   },
   "file_extension": ".py",
   "mimetype": "text/x-python",
   "name": "python",
   "nbconvert_exporter": "python",
   "pygments_lexer": "ipython3",
   "version": "3.10.5"
  }
 },
 "nbformat": 4,
 "nbformat_minor": 5
}
