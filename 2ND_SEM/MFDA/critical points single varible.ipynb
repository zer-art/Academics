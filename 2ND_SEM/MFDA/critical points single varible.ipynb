{
 "cells": [
  {
   "cell_type": "markdown",
   "id": "6053c80e",
   "metadata": {},
   "source": [
    "# Critical Point "
   ]
  },
  {
   "cell_type": "markdown",
   "id": "e53c38aa",
   "metadata": {},
   "source": [
    "Determine the critical points for the function f(x)=x^3+x^2-5x-5.\n"
   ]
  },
  {
   "cell_type": "code",
   "execution_count": 1,
   "id": "5ab602e0",
   "metadata": {},
   "outputs": [
    {
     "data": {
      "text/latex": [
       "$\\displaystyle x^{3} + x^{2} - 5 x - 5$"
      ],
      "text/plain": [
       "x**3 + x**2 - 5*x - 5"
      ]
     },
     "execution_count": 1,
     "metadata": {},
     "output_type": "execute_result"
    }
   ],
   "source": [
    "import sympy as sp\n",
    "x = sp.symbols('x', real=True)\n",
    "f = x**3 + x**2 - 5*x - 5\n",
    "f"
   ]
  },
  {
   "cell_type": "code",
   "execution_count": 2,
   "id": "1393bd61",
   "metadata": {},
   "outputs": [
    {
     "data": {
      "text/latex": [
       "$\\displaystyle 3 x^{2} + 2 x - 5$"
      ],
      "text/plain": [
       "3*x**2 + 2*x - 5"
      ]
     },
     "execution_count": 2,
     "metadata": {},
     "output_type": "execute_result"
    }
   ],
   "source": [
    "fx=sp.diff(f,x)\n",
    "fx"
   ]
  },
  {
   "cell_type": "code",
   "execution_count": 3,
   "id": "4d294ca4",
   "metadata": {},
   "outputs": [
    {
     "data": {
      "text/plain": [
       "[{x: -5/3}, {x: 1}]"
      ]
     },
     "execution_count": 3,
     "metadata": {},
     "output_type": "execute_result"
    }
   ],
   "source": [
    "sp.solve([sp.diff(f,x)])"
   ]
  },
  {
   "cell_type": "markdown",
   "id": "dfdae82c",
   "metadata": {},
   "source": [
    "Problem 2"
   ]
  },
  {
   "cell_type": "markdown",
   "id": "faeef40c",
   "metadata": {},
   "source": [
    "Determine the critical points for the function f(x)=x^3+6x^2-15x+2. "
   ]
  },
  {
   "cell_type": "code",
   "execution_count": 4,
   "id": "92d88f5c",
   "metadata": {},
   "outputs": [
    {
     "data": {
      "text/latex": [
       "$\\displaystyle x^{3} + 6 x^{2} - 15 x + 2$"
      ],
      "text/plain": [
       "x**3 + 6*x**2 - 15*x + 2"
      ]
     },
     "execution_count": 4,
     "metadata": {},
     "output_type": "execute_result"
    }
   ],
   "source": [
    "x = sp.symbols('x', real=True)\n",
    "f = x**3 + 6*x**2 - 15*x + 2\n",
    "f"
   ]
  },
  {
   "cell_type": "code",
   "execution_count": 5,
   "id": "c6727013",
   "metadata": {},
   "outputs": [
    {
     "data": {
      "text/plain": [
       "[{x: -5}, {x: 1}]"
      ]
     },
     "execution_count": 5,
     "metadata": {},
     "output_type": "execute_result"
    }
   ],
   "source": [
    "sp.solve([sp.diff(f,x)])"
   ]
  },
  {
   "cell_type": "code",
   "execution_count": null,
   "id": "950f9dc6",
   "metadata": {},
   "outputs": [],
   "source": []
  }
 ],
 "metadata": {
  "kernelspec": {
   "display_name": "Python 3 (ipykernel)",
   "language": "python",
   "name": "python3"
  },
  "language_info": {
   "codemirror_mode": {
    "name": "ipython",
    "version": 3
   },
   "file_extension": ".py",
   "mimetype": "text/x-python",
   "name": "python",
   "nbconvert_exporter": "python",
   "pygments_lexer": "ipython3",
   "version": "3.12.3"
  }
 },
 "nbformat": 4,
 "nbformat_minor": 5
}
