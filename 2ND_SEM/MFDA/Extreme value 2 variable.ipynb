{
 "cells": [
  {
   "cell_type": "markdown",
   "id": "bf98fd0a",
   "metadata": {},
   "source": [
    "# Extreme Values and Saddle Points"
   ]
  },
  {
   "cell_type": "markdown",
   "id": "34830700",
   "metadata": {},
   "source": [
    "Extreme values of $f(x,y)$ can occur at\n",
    "\n",
    "* 1. Boundary points of the domain of $f$\n",
    "* 2. Critical Points ($f_x=f_y=0$)\n",
    "\n",
    "If\n",
    "\n",
    "* (i) $f_{xx}<0$ and $f_{xx}f_{yy} - f_{xy}^2>0$ at (a,b) then **local maximum**\n",
    "* (ii) $f_{xx}>0$ and $f_{xx}f_{yy} - f_{xy}^2>0$ at (a,b) then **local minimum**\n",
    "* (iii) $f_{xx}f_{yy} - f_{xy}^2 < 0$ at (a,b) then **saddle point**\n",
    "* (iv) $f_{xx}f_{yy} - f_{xy}^2 = 0$ at (a,b) then **inconclusive**"
   ]
  },
  {
   "cell_type": "code",
   "execution_count": 4,
   "id": "6bbe5eeb",
   "metadata": {},
   "outputs": [
    {
     "data": {
      "text/latex": [
       "$\\displaystyle x^{3} + 3 x y + y^{3}$"
      ],
      "text/plain": [
       "x**3 + 3*x*y + y**3"
      ]
     },
     "execution_count": 4,
     "metadata": {},
     "output_type": "execute_result"
    }
   ],
   "source": [
    "import sympy as sp\n",
    "x, y = sp.symbols('x y', real=True)\n",
    "f = x**3 + 3*x*y + y**3\n",
    "f"
   ]
  },
  {
   "cell_type": "code",
   "execution_count": 7,
   "id": "99c7d391",
   "metadata": {},
   "outputs": [
    {
     "data": {
      "text/plain": [
       "[{x: -1, y: -1}, {x: 0, y: 0}]"
      ]
     },
     "execution_count": 7,
     "metadata": {},
     "output_type": "execute_result"
    }
   ],
   "source": [
    "sp.solve([sp.diff(f,x), sp.diff(f, y)])"
   ]
  },
  {
   "cell_type": "code",
   "execution_count": 8,
   "id": "b4dfe915",
   "metadata": {},
   "outputs": [],
   "source": [
    "fxx = sp.diff(f,x,x)\n",
    "fyy = sp.diff(f,y,y)\n",
    "fxy = sp.diff(f,x,y)"
   ]
  },
  {
   "cell_type": "markdown",
   "id": "06f91b0d",
   "metadata": {},
   "source": [
    "Testing for the first point"
   ]
  },
  {
   "cell_type": "code",
   "execution_count": 9,
   "id": "a5346271",
   "metadata": {},
   "outputs": [
    {
     "data": {
      "text/latex": [
       "$\\displaystyle -6$"
      ],
      "text/plain": [
       "-6"
      ]
     },
     "execution_count": 9,
     "metadata": {},
     "output_type": "execute_result"
    }
   ],
   "source": [
    "fxx.subs([(x,-1),(y,-1)])"
   ]
  },
  {
   "cell_type": "code",
   "execution_count": 10,
   "id": "b907f563",
   "metadata": {},
   "outputs": [
    {
     "data": {
      "text/latex": [
       "$\\displaystyle 27$"
      ],
      "text/plain": [
       "27"
      ]
     },
     "execution_count": 10,
     "metadata": {},
     "output_type": "execute_result"
    }
   ],
   "source": [
    "test = fxx*fyy-fxy**2\n",
    "test.subs([(x,-1),(y,-1)])"
   ]
  },
  {
   "cell_type": "markdown",
   "id": "2e12d352",
   "metadata": {},
   "source": [
    "Thus the first point is a local maximum!"
   ]
  },
  {
   "cell_type": "markdown",
   "id": "8ff096ad",
   "metadata": {},
   "source": [
    "Testing for the Second point"
   ]
  },
  {
   "cell_type": "code",
   "execution_count": 11,
   "id": "b03ed693",
   "metadata": {},
   "outputs": [
    {
     "data": {
      "text/latex": [
       "$\\displaystyle 0$"
      ],
      "text/plain": [
       "0"
      ]
     },
     "execution_count": 11,
     "metadata": {},
     "output_type": "execute_result"
    }
   ],
   "source": [
    "fxx.subs([(x,0),(y,0)])"
   ]
  },
  {
   "cell_type": "code",
   "execution_count": 12,
   "id": "52820a61",
   "metadata": {},
   "outputs": [
    {
     "data": {
      "text/latex": [
       "$\\displaystyle -9$"
      ],
      "text/plain": [
       "-9"
      ]
     },
     "execution_count": 12,
     "metadata": {},
     "output_type": "execute_result"
    }
   ],
   "source": [
    "test = fxx*fyy-fxy**2\n",
    "test.subs([(x,0),(y,0)])"
   ]
  },
  {
   "cell_type": "markdown",
   "id": "449f530a",
   "metadata": {},
   "source": [
    "Thus the first point is a saddle point"
   ]
  },
  {
   "cell_type": "code",
   "execution_count": null,
   "id": "855a96bd",
   "metadata": {},
   "outputs": [],
   "source": []
  }
 ],
 "metadata": {
  "kernelspec": {
   "display_name": "Python 3 (ipykernel)",
   "language": "python",
   "name": "python3"
  },
  "language_info": {
   "codemirror_mode": {
    "name": "ipython",
    "version": 3
   },
   "file_extension": ".py",
   "mimetype": "text/x-python",
   "name": "python",
   "nbconvert_exporter": "python",
   "pygments_lexer": "ipython3",
   "version": "3.10.5"
  }
 },
 "nbformat": 4,
 "nbformat_minor": 5
}
