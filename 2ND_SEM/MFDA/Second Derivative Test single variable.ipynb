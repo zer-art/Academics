{
 "cells": [
  {
   "cell_type": "markdown",
   "id": "481f4c7d",
   "metadata": {},
   "source": [
    "Extreme values of $f(x)$ can occur at\n",
    "\n",
    "* 1. Boundary points of the domain of $f$\n",
    "* 2. Critical Points ($f_x=0$)\n",
    "\n",
    "If\n",
    "\n",
    "* (i) x=a is a point of **local maximum** if $f_{x}(a)=0$ and $f_{xx}(a)<0$\n",
    "* (ii) x=a is a point of **local maximum** if $f_{x}(a)=0$ and $f_{xx}(a)>0$\n",
    "* (iii) Test Fails if $f_{x}(a)=0$ and $f_{xx}(a)=0$\n",
    "\n"
   ]
  },
  {
   "cell_type": "markdown",
   "id": "6214bafd",
   "metadata": {},
   "source": [
    "Use second derivative test to determine whether each critical number of function f(x)=12+2x^2-x^4 corresponds to a relative maximum, a relative minimum, or neither."
   ]
  },
  {
   "cell_type": "code",
   "execution_count": 1,
   "id": "db7c119c",
   "metadata": {},
   "outputs": [
    {
     "data": {
      "text/latex": [
       "$\\displaystyle - x^{4} + 2 x^{2} + 12$"
      ],
      "text/plain": [
       "-x**4 + 2*x**2 + 12"
      ]
     },
     "execution_count": 1,
     "metadata": {},
     "output_type": "execute_result"
    }
   ],
   "source": [
    "import sympy as sp\n",
    "x, y = sp.symbols('x y', real=True)\n",
    "f = 12+2*x**2 - x**4\n",
    "f"
   ]
  },
  {
   "cell_type": "code",
   "execution_count": 8,
   "id": "921a0192",
   "metadata": {},
   "outputs": [
    {
     "data": {
      "text/plain": [
       "[{x: -1}, {x: 0}, {x: 1}]"
      ]
     },
     "execution_count": 8,
     "metadata": {},
     "output_type": "execute_result"
    }
   ],
   "source": [
    "sp.solve([sp.diff(f,x)])\n"
   ]
  },
  {
   "cell_type": "code",
   "execution_count": 9,
   "id": "7e17b88b",
   "metadata": {},
   "outputs": [
    {
     "data": {
      "text/latex": [
       "$\\displaystyle 4 \\cdot \\left(1 - 3 x^{2}\\right)$"
      ],
      "text/plain": [
       "4*(1 - 3*x**2)"
      ]
     },
     "execution_count": 9,
     "metadata": {},
     "output_type": "execute_result"
    }
   ],
   "source": [
    "sp.diff(f,x,2)"
   ]
  },
  {
   "cell_type": "code",
   "execution_count": 13,
   "id": "6fd76070",
   "metadata": {},
   "outputs": [
    {
     "data": {
      "text/latex": [
       "$\\displaystyle -8$"
      ],
      "text/plain": [
       "-8"
      ]
     },
     "execution_count": 13,
     "metadata": {},
     "output_type": "execute_result"
    }
   ],
   "source": [
    "sp.diff(f,x,2).subs(x,-1)"
   ]
  },
  {
   "cell_type": "markdown",
   "id": "1ea1430a",
   "metadata": {},
   "source": [
    "Thus function has maximum at x=-1"
   ]
  },
  {
   "cell_type": "code",
   "execution_count": 14,
   "id": "5c760060",
   "metadata": {},
   "outputs": [
    {
     "data": {
      "text/latex": [
       "$\\displaystyle 4$"
      ],
      "text/plain": [
       "4"
      ]
     },
     "execution_count": 14,
     "metadata": {},
     "output_type": "execute_result"
    }
   ],
   "source": [
    "sp.diff(f,x,2).subs(x,0)"
   ]
  },
  {
   "cell_type": "markdown",
   "id": "ace4acf2",
   "metadata": {},
   "source": [
    "Thus function has minimum at x=0"
   ]
  },
  {
   "cell_type": "code",
   "execution_count": 15,
   "id": "381b7495",
   "metadata": {},
   "outputs": [
    {
     "data": {
      "text/latex": [
       "$\\displaystyle -8$"
      ],
      "text/plain": [
       "-8"
      ]
     },
     "execution_count": 15,
     "metadata": {},
     "output_type": "execute_result"
    }
   ],
   "source": [
    "sp.diff(f,x,2).subs(x,1)"
   ]
  },
  {
   "cell_type": "markdown",
   "id": "ee903b1d",
   "metadata": {},
   "source": [
    "Thus function has maximum at x=1"
   ]
  }
 ],
 "metadata": {
  "kernelspec": {
   "display_name": "Python 3 (ipykernel)",
   "language": "python",
   "name": "python3"
  },
  "language_info": {
   "codemirror_mode": {
    "name": "ipython",
    "version": 3
   },
   "file_extension": ".py",
   "mimetype": "text/x-python",
   "name": "python",
   "nbconvert_exporter": "python",
   "pygments_lexer": "ipython3",
   "version": "3.10.5"
  }
 },
 "nbformat": 4,
 "nbformat_minor": 5
}
