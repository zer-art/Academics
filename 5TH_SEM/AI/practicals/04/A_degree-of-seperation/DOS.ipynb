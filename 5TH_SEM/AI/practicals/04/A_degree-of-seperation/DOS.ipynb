{
 "cells": [
  {
   "cell_type": "markdown",
   "id": "aee039a8",
   "metadata": {},
   "source": [
    "# **Degree of Seperation**"
   ]
  },
  {
   "cell_type": "code",
   "execution_count": 16,
   "id": "daa0a17f",
   "metadata": {},
   "outputs": [],
   "source": [
    "from collections import deque\n",
    "import pandas as pd\n",
    "\n",
    "def build_graph(edge_dict):\n",
    "    graph = {}\n",
    "    for entry in edge_dict.values():\n",
    "        a, b = entry['A'], entry['B']\n",
    "        if a not in graph:\n",
    "            graph[a] = []\n",
    "        if b not in graph:\n",
    "            graph[b] = []\n",
    "        graph[a].append(b)\n",
    "        graph[b].append(a)  \n",
    "    return graph\n",
    "\n",
    "def degree_of_separation(graph, person1, person2):\n",
    "    if person1 == person2:\n",
    "        return 0\n",
    "    visited = set()\n",
    "    queue = deque([(person1, 0)])\n",
    "    visited.add(person1)\n",
    "    while queue:\n",
    "        current, degree = queue.popleft()\n",
    "        for neighbor in graph.get(current, []):\n",
    "            if neighbor == person2:\n",
    "                return degree + 1\n",
    "            if neighbor not in visited:\n",
    "                visited.add(neighbor)\n",
    "                queue.append((neighbor, degree + 1))\n",
    "    return -1  # No connection found"
   ]
  },
  {
   "cell_type": "code",
   "execution_count": 17,
   "id": "12aa3a29",
   "metadata": {},
   "outputs": [
    {
     "data": {
      "text/plain": [
       "{'person1': ['person2'],\n",
       " 'person2': ['person1'],\n",
       " 'Alice': ['Bob', 'Eve'],\n",
       " 'Bob': ['Alice', 'Charlie'],\n",
       " 'Charlie': ['Bob', 'David', 'Hector'],\n",
       " 'David': ['Charlie'],\n",
       " 'Eve': ['Alice', 'Frank'],\n",
       " 'Frank': ['Eve', 'Grace'],\n",
       " 'Grace': ['Frank'],\n",
       " 'Hector': ['Charlie', 'Isabella'],\n",
       " 'Isabella': ['Hector', 'James'],\n",
       " 'James': ['Isabella']}"
      ]
     },
     "execution_count": 17,
     "metadata": {},
     "output_type": "execute_result"
    }
   ],
   "source": [
    "edge_dict = pd.read_excel('data.xlsx', index_col=0).to_dict(orient='index') \n",
    "graph = build_graph(edge_dict)\n",
    "graph\n"
   ]
  },
  {
   "cell_type": "code",
   "execution_count": 18,
   "id": "5185bbcf",
   "metadata": {},
   "outputs": [
    {
     "data": {
      "text/plain": [
       "2"
      ]
     },
     "execution_count": 18,
     "metadata": {},
     "output_type": "execute_result"
    }
   ],
   "source": [
    "degree_of_separation(graph, 'Alice', 'Charlie')"
   ]
  }
 ],
 "metadata": {
  "kernelspec": {
   "display_name": "academics",
   "language": "python",
   "name": "python3"
  },
  "language_info": {
   "codemirror_mode": {
    "name": "ipython",
    "version": 3
   },
   "file_extension": ".py",
   "mimetype": "text/x-python",
   "name": "python",
   "nbconvert_exporter": "python",
   "pygments_lexer": "ipython3",
   "version": "3.12.11"
  }
 },
 "nbformat": 4,
 "nbformat_minor": 5
}
