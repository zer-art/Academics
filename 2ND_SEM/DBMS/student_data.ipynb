{
 "cells": [
  {
   "cell_type": "code",
   "execution_count": 1,
   "metadata": {},
   "outputs": [],
   "source": [
    "import mysql.connector\n",
    "from mysql.connector import Error\n",
    "import pandas as pd \n"
   ]
  },
  {
   "cell_type": "code",
   "execution_count": null,
   "metadata": {},
   "outputs": [
    {
     "name": "stdout",
     "output_type": "stream",
     "text": [
      "server connection successfull\n"
     ]
    }
   ],
   "source": [
    "# define server connector \n",
    "\n",
    "def server_connector(host_name,user_name,password):\n",
    "    connection = None\n",
    "    try :\n",
    "        connection = mysql.connector.connect(\n",
    "            host = host_name,\n",
    "            user = user_name,\n",
    "            passwd = password\n",
    "        )\n",
    "        print(\"server connection successfull\")\n",
    "    except Error as err :\n",
    "        print(f\"Error : '{err}'\")    \n",
    "    return connection    \n",
    "\n",
    "connection = server_connector(\"localhost\",\"root\",\"@sql\")        "
   ]
  },
  {
   "cell_type": "code",
   "execution_count": null,
   "metadata": {},
   "outputs": [
    {
     "name": "stdout",
     "output_type": "stream",
     "text": [
      "database created successfully \n"
     ]
    }
   ],
   "source": [
    "# creating database\n",
    "\n",
    "def create_database(connection,query):\n",
    "    cursor = connection.cursor()\n",
    "    try : \n",
    "        cursor.execute(query)\n",
    "        print(\"database created successfully \")\n",
    "    except Error as err :\n",
    "        print(f\"Error : '{err}'\")  \n",
    "        \n",
    "database =create_database(connection,\"create database if not exists SAMPLE_1\") \n",
    "  "
   ]
  },
  {
   "cell_type": "code",
   "execution_count": null,
   "metadata": {},
   "outputs": [
    {
     "name": "stdout",
     "output_type": "stream",
     "text": [
      "database connection successfull .\n"
     ]
    }
   ],
   "source": [
    "# define database connector \n",
    "\n",
    "def database_connector(host_name,user_name,password,database_name):\n",
    "    connection = None\n",
    "    try: \n",
    "        connection = mysql.connector.connect(\n",
    "        host = host_name,\n",
    "        user = user_name,\n",
    "        passwd = password,\n",
    "        database = database_name\n",
    "        )\n",
    "        print(\"database connection successfull .\")\n",
    "    except Error as err : \n",
    "        print(f\"Error : '{err}'\") \n",
    "    return connection    \n",
    "\n",
    "connection = database_connector(\"localhost\",\"root\",\"@sql\",\"SAMPLE_1\")          "
   ]
  },
  {
   "cell_type": "code",
   "execution_count": null,
   "metadata": {},
   "outputs": [
    {
     "name": "stdout",
     "output_type": "stream",
     "text": [
      "query is successfull\n"
     ]
    }
   ],
   "source": [
    "# defining input function \n",
    "\n",
    "def input_comands(connection,query):\n",
    "    cursor = connection.cursor()\n",
    "    try:\n",
    "        cursor = cursor.execute(query)\n",
    "        connection.commit()\n",
    "        print(\"query is successfull\")\n",
    "    except Error as err : \n",
    "        print(f\"Error : '{err}'\")\n",
    "\n",
    "q1 = \"\"\"CREATE TABLE IF NOT EXISTS DATA (\n",
    "  ID INT PRIMARY KEY NOT NULL,\n",
    "  NAME VARCHAR(30) NOT NULL,\n",
    "  MARKS INT   \n",
    ");\n",
    "\"\"\"        \n",
    "            \n",
    "input_comands(connection,q1)"
   ]
  },
  {
   "cell_type": "code",
   "execution_count": null,
   "metadata": {},
   "outputs": [
    {
     "name": "stdout",
     "output_type": "stream",
     "text": [
      "query is successfull\n"
     ]
    }
   ],
   "source": [
    "data_entry = \"\"\"\n",
    "INSERT INTO DATA VALUES (\n",
    "    101,\"PAWAN\",99),\n",
    "    (102,\"AYUSH\",13),\n",
    "    (103,\"BRISHABH\",84)\"\"\"\n",
    "    \n",
    "input_comands(connection,data_entry)    "
   ]
  },
  {
   "cell_type": "code",
   "execution_count": null,
   "metadata": {},
   "outputs": [
    {
     "data": {
      "text/html": [
       "<div>\n",
       "<style scoped>\n",
       "    .dataframe tbody tr th:only-of-type {\n",
       "        vertical-align: middle;\n",
       "    }\n",
       "\n",
       "    .dataframe tbody tr th {\n",
       "        vertical-align: top;\n",
       "    }\n",
       "\n",
       "    .dataframe thead th {\n",
       "        text-align: right;\n",
       "    }\n",
       "</style>\n",
       "<table border=\"1\" class=\"dataframe\">\n",
       "  <thead>\n",
       "    <tr style=\"text-align: right;\">\n",
       "      <th></th>\n",
       "      <th>0</th>\n",
       "      <th>1</th>\n",
       "      <th>2</th>\n",
       "    </tr>\n",
       "  </thead>\n",
       "  <tbody>\n",
       "    <tr>\n",
       "      <th>0</th>\n",
       "      <td>101</td>\n",
       "      <td>PAWAN</td>\n",
       "      <td>99</td>\n",
       "    </tr>\n",
       "    <tr>\n",
       "      <th>1</th>\n",
       "      <td>102</td>\n",
       "      <td>AYUSH</td>\n",
       "      <td>13</td>\n",
       "    </tr>\n",
       "    <tr>\n",
       "      <th>2</th>\n",
       "      <td>103</td>\n",
       "      <td>BRISHABH</td>\n",
       "      <td>84</td>\n",
       "    </tr>\n",
       "  </tbody>\n",
       "</table>\n",
       "</div>"
      ],
      "text/plain": [
       "     0         1   2\n",
       "0  101     PAWAN  99\n",
       "1  102     AYUSH  13\n",
       "2  103  BRISHABH  84"
      ]
     },
     "execution_count": 29,
     "metadata": {},
     "output_type": "execute_result"
    }
   ],
   "source": [
    "#defining output function \n",
    "\n",
    "def read_query(connection, query):\n",
    "    cursor = connection.cursor()\n",
    "    result = None\n",
    "    try:\n",
    "        cursor.execute(query)\n",
    "        result = cursor.fetchall()  # Or fetchone() or fetchmany() as needed\n",
    "    except Exception as err:\n",
    "        print(f\"Error: '{err}'\")\n",
    "        cursor.close()  # Close cursor in case of errors\n",
    "    finally:\n",
    "        cursor.close()  # Optional: Close cursor even if no exceptions occur\n",
    "    return result\n",
    "\n",
    "q2 = \"\"\"\n",
    "SELECT * FROM DATA \n",
    "\"\"\"     \n",
    "result = read_query(connection,q2) \n",
    "data= pd.DataFrame(result)\n",
    "data"
   ]
  },
  {
   "cell_type": "code",
   "execution_count": null,
   "metadata": {},
   "outputs": [],
   "source": []
  }
 ],
 "metadata": {
  "kernelspec": {
   "display_name": "Python 3",
   "language": "python",
   "name": "python3"
  },
  "language_info": {
   "codemirror_mode": {
    "name": "ipython",
    "version": 3
   },
   "file_extension": ".py",
   "mimetype": "text/x-python",
   "name": "python",
   "nbconvert_exporter": "python",
   "pygments_lexer": "ipython3",
   "version": "3.12.3"
  }
 },
 "nbformat": 4,
 "nbformat_minor": 2
}
