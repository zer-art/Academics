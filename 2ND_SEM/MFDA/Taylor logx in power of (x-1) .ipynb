{
 "cells": [
  {
   "cell_type": "code",
   "execution_count": 2,
   "id": "7a51202c",
   "metadata": {},
   "outputs": [
    {
     "data": {
      "text/latex": [
       "$\\displaystyle x + \\frac{\\left(x - 1\\right)^{9}}{9} - \\frac{\\left(x - 1\\right)^{8}}{8} + \\frac{\\left(x - 1\\right)^{7}}{7} - \\frac{\\left(x - 1\\right)^{6}}{6} + \\frac{\\left(x - 1\\right)^{5}}{5} - \\frac{\\left(x - 1\\right)^{4}}{4} + \\frac{\\left(x - 1\\right)^{3}}{3} - \\frac{\\left(x - 1\\right)^{2}}{2} - 1$"
      ],
      "text/plain": [
       "x + (x - 1)**9/9 - (x - 1)**8/8 + (x - 1)**7/7 - (x - 1)**6/6 + (x - 1)**5/5 - (x - 1)**4/4 + (x - 1)**3/3 - (x - 1)**2/2 - 1"
      ]
     },
     "execution_count": 2,
     "metadata": {},
     "output_type": "execute_result"
    }
   ],
   "source": [
    "import sympy as sp\n",
    "import numpy as np\n",
    "import math\n",
    "from sympy import symbols, diff, pretty_print, factorial, exp\n",
    "x, y, pi = symbols(\"x y pi\")\n",
    "\n",
    "n = 10    # Number of iterations\n",
    "x0 = 1    # The value of \"a\" or the point\n",
    "func = sp.log(x)             # The function we are approximating\n",
    "result = func.subs(x, x0)  # Initializing result with the first term\n",
    "\n",
    "for i in range(1, n):\n",
    "    result += diff(func, x, i).subs(x, x0) * ((x - x0)**i)/(factorial(i))\n",
    "    #  diff(func, x, i) -> This differentiates \"func\" w.r.t x, \"i-th\" times\n",
    "    #  subs(x, x0)      -> This is a method used on expressions,\n",
    "    #                      to substitute an unknown (x) with a value (x0).\n",
    "result\n",
    "#pretty_print(result)"
   ]
  },
  {
   "cell_type": "code",
   "execution_count": null,
   "id": "f1ee8e34",
   "metadata": {},
   "outputs": [],
   "source": []
  }
 ],
 "metadata": {
  "kernelspec": {
   "display_name": "Python 3 (ipykernel)",
   "language": "python",
   "name": "python3"
  },
  "language_info": {
   "codemirror_mode": {
    "name": "ipython",
    "version": 3
   },
   "file_extension": ".py",
   "mimetype": "text/x-python",
   "name": "python",
   "nbconvert_exporter": "python",
   "pygments_lexer": "ipython3",
   "version": "3.10.5"
  }
 },
 "nbformat": 4,
 "nbformat_minor": 5
}
