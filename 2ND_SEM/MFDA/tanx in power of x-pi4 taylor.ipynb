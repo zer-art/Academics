{
 "cells": [
  {
   "cell_type": "code",
   "execution_count": 11,
   "id": "f73df748",
   "metadata": {},
   "outputs": [
    {
     "data": {
      "text/latex": [
       "$\\displaystyle 2 x + \\frac{31744 \\left(x - \\frac{\\pi}{4}\\right)^{9}}{2835} + \\frac{554 \\left(x - \\frac{\\pi}{4}\\right)^{8}}{63} + \\frac{2176 \\left(x - \\frac{\\pi}{4}\\right)^{7}}{315} + \\frac{244 \\left(x - \\frac{\\pi}{4}\\right)^{6}}{45} + \\frac{64 \\left(x - \\frac{\\pi}{4}\\right)^{5}}{15} + \\frac{10 \\left(x - \\frac{\\pi}{4}\\right)^{4}}{3} + \\frac{8 \\left(x - \\frac{\\pi}{4}\\right)^{3}}{3} + 2 \\left(x - \\frac{\\pi}{4}\\right)^{2} - \\frac{\\pi}{2} + 1$"
      ],
      "text/plain": [
       "2*x + 31744*(x - pi/4)**9/2835 + 554*(x - pi/4)**8/63 + 2176*(x - pi/4)**7/315 + 244*(x - pi/4)**6/45 + 64*(x - pi/4)**5/15 + 10*(x - pi/4)**4/3 + 8*(x - pi/4)**3/3 + 2*(x - pi/4)**2 - pi/2 + 1"
      ]
     },
     "execution_count": 11,
     "metadata": {},
     "output_type": "execute_result"
    }
   ],
   "source": [
    "import sympy as sp\n",
    "import numpy as np\n",
    "import math\n",
    "from sympy import symbols, diff, pretty_print, factorial, exp\n",
    "x, y, pi = symbols(\"x y pi\")\n",
    "\n",
    "n = 10    # Number of iterations\n",
    "x0 = sp.pi/4    # The value of \"a\" or the point\n",
    "func = sp.tan(x)             # The function we are approximating\n",
    "result = func.subs(x, x0)  # Initializing result with the first term\n",
    "\n",
    "for i in range(1, n):\n",
    "    result += diff(func, x, i).subs(x, x0) * ((x - x0)**i)/(factorial(i))\n",
    "    #  diff(func, x, i) -> This differentiates \"func\" w.r.t x, \"i-th\" times\n",
    "    #  subs(x, x0)      -> This is a method used on expressions,\n",
    "    #                      to substitute an unknown (x) with a value (x0).\n",
    "result\n",
    "#pretty_print(result)"
   ]
  },
  {
   "cell_type": "code",
   "execution_count": null,
   "id": "265dbccf",
   "metadata": {},
   "outputs": [],
   "source": []
  }
 ],
 "metadata": {
  "kernelspec": {
   "display_name": "Python 3 (ipykernel)",
   "language": "python",
   "name": "python3"
  },
  "language_info": {
   "codemirror_mode": {
    "name": "ipython",
    "version": 3
   },
   "file_extension": ".py",
   "mimetype": "text/x-python",
   "name": "python",
   "nbconvert_exporter": "python",
   "pygments_lexer": "ipython3",
   "version": "3.10.5"
  }
 },
 "nbformat": 4,
 "nbformat_minor": 5
}
