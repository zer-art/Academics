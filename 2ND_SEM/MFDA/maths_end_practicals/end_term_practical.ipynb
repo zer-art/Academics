{
 "cells": [
  {
   "cell_type": "markdown",
   "metadata": {},
   "source": [
    "**Find an equation for the tangent plane to the surface 𝑥𝑧2 + 𝑥2𝑦 = 𝑧 − 1 at the point (1, -3, 2).**\n"
   ]
  },
  {
   "cell_type": "code",
   "execution_count": 220,
   "metadata": {},
   "outputs": [],
   "source": [
    "'''Importing liberaries and modules '''\n",
    "import sympy as sp\n",
    "from sympy import symbols, diff, pretty_print, factorial, exp\n",
    "from sympy.vector import *"
   ]
  },
  {
   "cell_type": "code",
   "execution_count": 221,
   "metadata": {},
   "outputs": [],
   "source": [
    "#defining symbols \n",
    "x, y, z = sp.symbols(\"x y z\")\n"
   ]
  },
  {
   "cell_type": "code",
   "execution_count": 222,
   "metadata": {},
   "outputs": [],
   "source": [
    "C = CoordSys3D('')"
   ]
  },
  {
   "cell_type": "code",
   "execution_count": 223,
   "metadata": {},
   "outputs": [
    {
     "data": {
      "text/latex": [
       "$\\displaystyle - \\mathbf{{x}_{}}^{2} \\mathbf{{y}_{}} - \\mathbf{{x}_{}} \\mathbf{{z}_{}}^{2} + \\mathbf{{z}_{}}$"
      ],
      "text/plain": [
       "-.x**2*.y - .x*.z**2 + .z"
      ]
     },
     "execution_count": 223,
     "metadata": {},
     "output_type": "execute_result"
    }
   ],
   "source": [
    "#creating function\n",
    "f = C.z-C.x*C.z**2-C.x**2*C.y\n",
    "f"
   ]
  },
  {
   "cell_type": "markdown",
   "metadata": {},
   "source": [
    "Equation of Tangent Plane $(r-a).(\\nabla f_A)=0$"
   ]
  },
  {
   "cell_type": "code",
   "execution_count": 224,
   "metadata": {},
   "outputs": [
    {
     "data": {
      "text/latex": [
       "$\\displaystyle \\left(- 2 \\mathbf{{x}_{}} \\mathbf{{y}_{}} - \\mathbf{{z}_{}}^{2}\\right)\\mathbf{\\hat{i}_{}} + \\left(- \\mathbf{{x}_{}}^{2}\\right)\\mathbf{\\hat{j}_{}} + \\left(- 2 \\mathbf{{x}_{}} \\mathbf{{z}_{}} + 1\\right)\\mathbf{\\hat{k}_{}}$"
      ],
      "text/plain": [
       "(-2*.x*.y - .z**2)*.i + (-.x**2)*.j + (-2*.x*.z + 1)*.k"
      ]
     },
     "execution_count": 224,
     "metadata": {},
     "output_type": "execute_result"
    }
   ],
   "source": [
    "g=gradient(f)\n",
    "g"
   ]
  },
  {
   "cell_type": "code",
   "execution_count": 225,
   "metadata": {},
   "outputs": [
    {
     "data": {
      "text/latex": [
       "$\\displaystyle \\left(2\\right)\\mathbf{\\hat{i}_{}} - \\mathbf{\\hat{j}_{}} + \\left(-3\\right)\\mathbf{\\hat{k}_{}}$"
      ],
      "text/plain": [
       "2*.i + (-1)*.j + (-3)*.k"
      ]
     },
     "execution_count": 225,
     "metadata": {},
     "output_type": "execute_result"
    }
   ],
   "source": [
    "# substitution the values \n",
    "m=g.subs(C.x, 1).subs(C.y, -3).subs(C.z, 2)\n",
    "m"
   ]
  },
  {
   "cell_type": "code",
   "execution_count": 226,
   "metadata": {},
   "outputs": [
    {
     "data": {
      "text/latex": [
       "$\\displaystyle \\mathbf{\\hat{i}_{}} + \\left(-3\\right)\\mathbf{\\hat{j}_{}} + \\left(2\\right)\\mathbf{\\hat{k}_{}}$"
      ],
      "text/plain": [
       ".i + (-3)*.j + 2*.k"
      ]
     },
     "execution_count": 226,
     "metadata": {},
     "output_type": "execute_result"
    }
   ],
   "source": [
    "a=C.i-3*C.j+2*C.k\n",
    "a"
   ]
  },
  {
   "cell_type": "code",
   "execution_count": 227,
   "metadata": {},
   "outputs": [
    {
     "data": {
      "text/latex": [
       "$\\displaystyle \\left(\\mathbf{{x}_{}}\\right)\\mathbf{\\hat{i}_{}} + \\left(\\mathbf{{y}_{}}\\right)\\mathbf{\\hat{j}_{}} + \\left(\\mathbf{{z}_{}}\\right)\\mathbf{\\hat{k}_{}}$"
      ],
      "text/plain": [
       ".x*.i + .y*.j + .z*.k"
      ]
     },
     "execution_count": 227,
     "metadata": {},
     "output_type": "execute_result"
    }
   ],
   "source": [
    "r=C.x*C.i+C.y*C.j+C.z*C.k\n",
    "r"
   ]
  },
  {
   "cell_type": "code",
   "execution_count": 228,
   "metadata": {},
   "outputs": [
    {
     "data": {
      "text/latex": [
       "$\\displaystyle 2 \\mathbf{{x}_{}} - \\mathbf{{y}_{}} - 3 \\mathbf{{z}_{}} + 1$"
      ],
      "text/plain": [
       "2*.x - .y - 3*.z + 1"
      ]
     },
     "execution_count": 228,
     "metadata": {},
     "output_type": "execute_result"
    }
   ],
   "source": [
    "(r-a).dot(m)"
   ]
  },
  {
   "cell_type": "markdown",
   "metadata": {},
   "source": [
    "**Find the maxima and minima for the following function 𝑓(𝑥, 𝑦) = 3𝑥2 − 𝑦2 + 𝑥3**"
   ]
  },
  {
   "cell_type": "code",
   "execution_count": 229,
   "metadata": {},
   "outputs": [],
   "source": [
    "from sympy import symbols, diff, solve, hessian, Matrix"
   ]
  },
  {
   "cell_type": "code",
   "execution_count": 230,
   "metadata": {},
   "outputs": [],
   "source": [
    "# Define the function\n",
    "f1 = 3*x**2 - y**2 + x**3"
   ]
  },
  {
   "cell_type": "code",
   "execution_count": 231,
   "metadata": {},
   "outputs": [
    {
     "name": "stdout",
     "output_type": "stream",
     "text": [
      "3*x**2 + 6*x\n",
      "-2*y\n"
     ]
    }
   ],
   "source": [
    "# Compute the first partial derivatives\n",
    "f_x = diff(f1, x)\n",
    "print(f_x)\n",
    "f_y = diff(f1, y)\n",
    "print(f_y)"
   ]
  },
  {
   "cell_type": "code",
   "execution_count": 232,
   "metadata": {},
   "outputs": [
    {
     "name": "stdout",
     "output_type": "stream",
     "text": [
      "Critical points: [(-2, 0), (0, 0)]\n"
     ]
    }
   ],
   "source": [
    "critical_points = solve((f_x, f_y), (x, y))\n",
    "print(f\"Critical points: {critical_points}\")"
   ]
  },
  {
   "cell_type": "code",
   "execution_count": 233,
   "metadata": {},
   "outputs": [
    {
     "name": "stdout",
     "output_type": "stream",
     "text": [
      "f_xx: 6*x + 6 , ff_yy : -2 , f_xy : 0 ,f_yx:0 \n"
     ]
    }
   ],
   "source": [
    "# Compute the second partial derivatives\n",
    "f_xx = diff(f_x, x)\n",
    "f_yy = diff(f_y, y)\n",
    "f_xy = diff(f_x, y)\n",
    "f_yx = diff(f_y, x)  \n",
    "\n",
    "print(f\"f_xx: {f_xx} , ff_yy : {f_yy} , f_xy : {f_xy} ,f_yx:{f_yx} \")"
   ]
  },
  {
   "cell_type": "code",
   "execution_count": 234,
   "metadata": {},
   "outputs": [
    {
     "data": {
      "text/latex": [
       "$\\displaystyle \\left[\\begin{matrix}6 x + 6 & 0\\\\0 & -2\\end{matrix}\\right]$"
      ],
      "text/plain": [
       "Matrix([\n",
       "[6*x + 6,  0],\n",
       "[      0, -2]])"
      ]
     },
     "execution_count": 234,
     "metadata": {},
     "output_type": "execute_result"
    }
   ],
   "source": [
    "# creting hessian matrix \n",
    "hessian_matrix = sp.Matrix(2,2,[f_xx , f_xy , f_yx ,f_yy])\n",
    "hessian_matrix\n"
   ]
  },
  {
   "cell_type": "code",
   "execution_count": 235,
   "metadata": {},
   "outputs": [
    {
     "name": "stdout",
     "output_type": "stream",
     "text": [
      "the Matrix([[-6, 0], [0, -2]]) is minima \n"
     ]
    }
   ],
   "source": [
    "# Evaluate the Hessian at each critical point\n",
    "import sympy \n",
    "for point in critical_points:\n",
    "    Hessian_point = hessian_matrix.subs({x: point[0], y: point[1]})\n",
    "    r = f_xx.subs({x: point[0], y: point[1]})\n",
    "    if sp.det(Hessian_point) > 0 :\n",
    "        if r >0 :\n",
    "               print(f\"the {Hessian_point} is maxima \")  \n",
    "        elif r <0 :\n",
    "               print(f\"the {Hessian_point} is minima \")\n",
    "  \n"
   ]
  },
  {
   "cell_type": "markdown",
   "metadata": {},
   "source": [
    " **Expand 𝑙𝑜𝑔 𝑥 in ascending power of (𝑥 − 1) by using Taylor's theorem.**"
   ]
  },
  {
   "cell_type": "code",
   "execution_count": 236,
   "metadata": {},
   "outputs": [],
   "source": [
    "import numpy as np\n",
    "import math\n",
    "x, y, pi = symbols(\"x y pi\")\n",
    "\n",
    "h =x-1\n",
    "n = 10  \n",
    "x0 = (sp.solve(h,x))[0]\n",
    "\n",
    "func = sp.log(x)             \n",
    "result = func.subs(x, x0)  \n",
    "\n"
   ]
  },
  {
   "cell_type": "code",
   "execution_count": 237,
   "metadata": {},
   "outputs": [
    {
     "name": "stdout",
     "output_type": "stream",
     "text": [
      "           9          8          7          6          5          4          3\n",
      "    (x - 1)    (x - 1)    (x - 1)    (x - 1)    (x - 1)    (x - 1)    (x - 1) \n",
      "x + ──────── - ──────── + ──────── - ──────── + ──────── - ──────── + ────────\n",
      "       9          8          7          6          5          4          3    \n",
      "\n",
      "          2    \n",
      "   (x - 1)     \n",
      " - ──────── - 1\n",
      "      2        \n"
     ]
    }
   ],
   "source": [
    "for i in range(1, n):\n",
    "    result += diff(func, x, i).subs(x, x0) * ((x - x0)**i)/(factorial(i))\n",
    "result\n",
    "pretty_print(result)"
   ]
  }
 ],
 "metadata": {
  "kernelspec": {
   "display_name": "Python 3",
   "language": "python",
   "name": "python3"
  },
  "language_info": {
   "codemirror_mode": {
    "name": "ipython",
    "version": 3
   },
   "file_extension": ".py",
   "mimetype": "text/x-python",
   "name": "python",
   "nbconvert_exporter": "python",
   "pygments_lexer": "ipython3",
   "version": "3.12.3"
  }
 },
 "nbformat": 4,
 "nbformat_minor": 2
}
