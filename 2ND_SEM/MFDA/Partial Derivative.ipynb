{
 "cells": [
  {
   "cell_type": "code",
   "execution_count": 1,
   "id": "76aed0e5",
   "metadata": {},
   "outputs": [],
   "source": [
    "import sympy as sp"
   ]
  },
  {
   "cell_type": "code",
   "execution_count": 9,
   "id": "e1fd86e4",
   "metadata": {},
   "outputs": [],
   "source": [
    "x, y, z, a, h, b = sp.symbols('x y z a h b')"
   ]
  },
  {
   "cell_type": "markdown",
   "id": "46443c03",
   "metadata": {},
   "source": [
    "# Basics"
   ]
  },
  {
   "cell_type": "markdown",
   "id": "c3165ac5",
   "metadata": {},
   "source": [
    "Partial Derivatives  $∂𝑓/∂𝑥$\n",
    "  and  $∂𝑓/∂𝑦$\n",
    "  of  $𝑓(𝑥,𝑦)=𝑦^2sin(𝑥+𝑦)$"
   ]
  },
  {
   "cell_type": "code",
   "execution_count": 3,
   "id": "15c8e999",
   "metadata": {},
   "outputs": [
    {
     "data": {
      "text/latex": [
       "$\\displaystyle y^{2} \\cos{\\left(x + y \\right)}$"
      ],
      "text/plain": [
       "y**2*cos(x + y)"
      ]
     },
     "execution_count": 3,
     "metadata": {},
     "output_type": "execute_result"
    }
   ],
   "source": [
    "f = y**2 * sp.sin(x+y)\n",
    "sp.diff(f,x)"
   ]
  },
  {
   "cell_type": "code",
   "execution_count": 4,
   "id": "a8292976",
   "metadata": {},
   "outputs": [
    {
     "data": {
      "text/latex": [
       "$\\displaystyle y^{2} \\cos{\\left(x + y \\right)} + 2 y \\sin{\\left(x + y \\right)}$"
      ],
      "text/plain": [
       "y**2*cos(x + y) + 2*y*sin(x + y)"
      ]
     },
     "execution_count": 4,
     "metadata": {},
     "output_type": "execute_result"
    }
   ],
   "source": [
    "sp.diff(f,y)"
   ]
  },
  {
   "cell_type": "markdown",
   "id": "cc649367",
   "metadata": {},
   "source": [
    "Or more complicated things like  $\\frac{∂^3𝑓}{∂xy^2}$"
   ]
  },
  {
   "cell_type": "code",
   "execution_count": 5,
   "id": "6a4ffc5a",
   "metadata": {},
   "outputs": [
    {
     "data": {
      "text/latex": [
       "$\\displaystyle - y^{2} \\cos{\\left(x + y \\right)} - 4 y \\sin{\\left(x + y \\right)} + 2 \\cos{\\left(x + y \\right)}$"
      ],
      "text/plain": [
       "-y**2*cos(x + y) - 4*y*sin(x + y) + 2*cos(x + y)"
      ]
     },
     "execution_count": 5,
     "metadata": {},
     "output_type": "execute_result"
    }
   ],
   "source": [
    "sp.diff(f,y,y,x)"
   ]
  },
  {
   "cell_type": "markdown",
   "id": "570d117a",
   "metadata": {},
   "source": [
    "Partial Derivatives  $∂𝑓/∂𝑥$\n",
    "  and  $∂𝑓/∂𝑦$\n",
    "  of  $𝑓(𝑥,𝑦)=ax^2+2hxy+by^2$"
   ]
  },
  {
   "cell_type": "code",
   "execution_count": 11,
   "id": "a9ca7d58",
   "metadata": {},
   "outputs": [
    {
     "data": {
      "text/latex": [
       "$\\displaystyle 2 a x + 2 h y$"
      ],
      "text/plain": [
       "2*a*x + 2*h*y"
      ]
     },
     "execution_count": 11,
     "metadata": {},
     "output_type": "execute_result"
    }
   ],
   "source": [
    "f=a*x**2+2*h*x*y+b*y**2\n",
    "sp.diff(f,x)"
   ]
  },
  {
   "cell_type": "code",
   "execution_count": 12,
   "id": "a39f7378",
   "metadata": {},
   "outputs": [
    {
     "data": {
      "text/latex": [
       "$\\displaystyle 2 b y + 2 h x$"
      ],
      "text/plain": [
       "2*b*y + 2*h*x"
      ]
     },
     "execution_count": 12,
     "metadata": {},
     "output_type": "execute_result"
    }
   ],
   "source": [
    "sp.diff(f,y)"
   ]
  },
  {
   "cell_type": "code",
   "execution_count": null,
   "id": "41d82792",
   "metadata": {},
   "outputs": [],
   "source": []
  }
 ],
 "metadata": {
  "kernelspec": {
   "display_name": "Python 3 (ipykernel)",
   "language": "python",
   "name": "python3"
  },
  "language_info": {
   "codemirror_mode": {
    "name": "ipython",
    "version": 3
   },
   "file_extension": ".py",
   "mimetype": "text/x-python",
   "name": "python",
   "nbconvert_exporter": "python",
   "pygments_lexer": "ipython3",
   "version": "3.10.5"
  }
 },
 "nbformat": 4,
 "nbformat_minor": 5
}
