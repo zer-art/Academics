{
 "cells": [
  {
   "cell_type": "markdown",
   "id": "9c66cc0a",
   "metadata": {},
   "source": [
    "# **Ouestion-Answer Chatbot**"
   ]
  },
  {
   "cell_type": "code",
   "execution_count": 3,
   "id": "6a3c4fdf",
   "metadata": {},
   "outputs": [
    {
     "data": {
      "text/plain": [
       "True"
      ]
     },
     "execution_count": 3,
     "metadata": {},
     "output_type": "execute_result"
    }
   ],
   "source": [
    "from langchain_google_genai import ChatGoogleGenerativeAI\n",
    "from dotenv import load_dotenv \n",
    "import os \n",
    "load_dotenv()"
   ]
  },
  {
   "cell_type": "code",
   "execution_count": 4,
   "id": "55c1d6e9",
   "metadata": {},
   "outputs": [],
   "source": [
    "# Initialize the Gemini model\n",
    "gemini_api = os.getenv(\"GEMINI-API\")\n",
    "\n",
    "llm = ChatGoogleGenerativeAI(\n",
    "            model=\"gemini-1.5-flash\",  \n",
    "            google_api_key=gemini_api, \n",
    "            temperature=0.2 \n",
    "        )"
   ]
  },
  {
   "cell_type": "code",
   "execution_count": 5,
   "id": "cd1f4a2a",
   "metadata": {},
   "outputs": [
    {
     "name": "stdout",
     "output_type": "stream",
     "text": [
      "The capital of India is **New Delhi**.\n"
     ]
    }
   ],
   "source": [
    "# Simple call\n",
    "input_question = input(\"Enter your question: \")\n",
    "response = llm.invoke(input_question)\n",
    "print(response.content)"
   ]
  }
 ],
 "metadata": {
  "kernelspec": {
   "display_name": "academics",
   "language": "python",
   "name": "python3"
  },
  "language_info": {
   "codemirror_mode": {
    "name": "ipython",
    "version": 3
   },
   "file_extension": ".py",
   "mimetype": "text/x-python",
   "name": "python",
   "nbconvert_exporter": "python",
   "pygments_lexer": "ipython3",
   "version": "3.12.11"
  }
 },
 "nbformat": 4,
 "nbformat_minor": 5
}
