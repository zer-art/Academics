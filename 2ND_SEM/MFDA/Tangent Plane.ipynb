{
 "cells": [
  {
   "cell_type": "markdown",
   "id": "b643ddda",
   "metadata": {},
   "source": [
    "Equation of Tangent Plane $(r-a).(\\nabla f_A)=0$\n",
    "\n",
    "Find an equation for the tangent plane to the surface 〖xz〗^2+x^2 y=z-1 at the point (1, -3, 2)."
   ]
  },
  {
   "cell_type": "code",
   "execution_count": 2,
   "id": "2c73c0ab",
   "metadata": {},
   "outputs": [],
   "source": [
    "import sympy as sp\n",
    "from sympy import symbols, diff, pretty_print, factorial, exp\n",
    "#import math"
   ]
  },
  {
   "cell_type": "code",
   "execution_count": 3,
   "id": "b60d971e",
   "metadata": {},
   "outputs": [],
   "source": [
    "from sympy.vector import *"
   ]
  },
  {
   "cell_type": "code",
   "execution_count": 4,
   "id": "f7b075d8",
   "metadata": {},
   "outputs": [],
   "source": [
    "x, y, z, e = sp.symbols(\"x y z e\")"
   ]
  },
  {
   "cell_type": "code",
   "execution_count": 5,
   "id": "a6efc731",
   "metadata": {},
   "outputs": [],
   "source": [
    "C = CoordSys3D('')"
   ]
  },
  {
   "cell_type": "code",
   "execution_count": 6,
   "id": "2ef6ee8e",
   "metadata": {},
   "outputs": [
    {
     "data": {
      "text/latex": [
       "$\\displaystyle - \\mathbf{{x}_{}}^{2} \\mathbf{{y}_{}} - \\mathbf{{x}_{}} \\mathbf{{z}_{}}^{2} + \\mathbf{{z}_{}}$"
      ],
      "text/plain": [
       "-.x**2*.y - .x*.z**2 + .z"
      ]
     },
     "execution_count": 6,
     "metadata": {},
     "output_type": "execute_result"
    }
   ],
   "source": [
    "f = C.z-C.x*C.z**2-C.x**2*C.y\n",
    "f\n"
   ]
  },
  {
   "cell_type": "code",
   "execution_count": 8,
   "id": "6e9be554",
   "metadata": {},
   "outputs": [
    {
     "data": {
      "text/latex": [
       "$\\displaystyle \\left(- 2 \\mathbf{{x}_{}} \\mathbf{{y}_{}} - \\mathbf{{z}_{}}^{2}\\right)\\mathbf{\\hat{i}_{}} + \\left(- \\mathbf{{x}_{}}^{2}\\right)\\mathbf{\\hat{j}_{}} + \\left(- 2 \\mathbf{{x}_{}} \\mathbf{{z}_{}} + 1\\right)\\mathbf{\\hat{k}_{}}$"
      ],
      "text/plain": [
       "(-2*.x*.y - .z**2)*.i + (-.x**2)*.j + (-2*.x*.z + 1)*.k"
      ]
     },
     "execution_count": 8,
     "metadata": {},
     "output_type": "execute_result"
    }
   ],
   "source": [
    "p=gradient(f)\n",
    "p"
   ]
  },
  {
   "cell_type": "code",
   "execution_count": 10,
   "id": "44aefc40",
   "metadata": {},
   "outputs": [
    {
     "data": {
      "text/latex": [
       "$\\displaystyle \\left(2\\right)\\mathbf{\\hat{i}_{}} - \\mathbf{\\hat{j}_{}} + \\left(-3\\right)\\mathbf{\\hat{k}_{}}$"
      ],
      "text/plain": [
       "2*.i + (-1)*.j + (-3)*.k"
      ]
     },
     "execution_count": 10,
     "metadata": {},
     "output_type": "execute_result"
    }
   ],
   "source": [
    "m=p.subs(C.x, 1).subs(C.y, -3).subs(C.z, 2)\n",
    "m"
   ]
  },
  {
   "cell_type": "markdown",
   "id": "ab0c681f",
   "metadata": {},
   "source": [
    "Position Vector of the given point (1,-3,2)"
   ]
  },
  {
   "cell_type": "code",
   "execution_count": 11,
   "id": "7a7aead3",
   "metadata": {},
   "outputs": [
    {
     "data": {
      "text/latex": [
       "$\\displaystyle \\mathbf{\\hat{i}_{}} + \\left(-3\\right)\\mathbf{\\hat{j}_{}} + \\left(2\\right)\\mathbf{\\hat{k}_{}}$"
      ],
      "text/plain": [
       ".i + (-3)*.j + 2*.k"
      ]
     },
     "execution_count": 11,
     "metadata": {},
     "output_type": "execute_result"
    }
   ],
   "source": [
    "a=C.i-3*C.j+2*C.k\n",
    "a"
   ]
  },
  {
   "cell_type": "code",
   "execution_count": 12,
   "id": "1b828050",
   "metadata": {},
   "outputs": [
    {
     "data": {
      "text/latex": [
       "$\\displaystyle \\left(\\mathbf{{x}_{}}\\right)\\mathbf{\\hat{i}_{}} + \\left(\\mathbf{{y}_{}}\\right)\\mathbf{\\hat{j}_{}} + \\left(\\mathbf{{z}_{}}\\right)\\mathbf{\\hat{k}_{}}$"
      ],
      "text/plain": [
       ".x*.i + .y*.j + .z*.k"
      ]
     },
     "execution_count": 12,
     "metadata": {},
     "output_type": "execute_result"
    }
   ],
   "source": [
    "r=C.x*C.i+C.y*C.j+C.z*C.k\n",
    "r"
   ]
  },
  {
   "cell_type": "markdown",
   "id": "5fcf5a86",
   "metadata": {},
   "source": [
    "The tangent place of A is $(r-a).(\\nabla f_A)=0$"
   ]
  },
  {
   "cell_type": "code",
   "execution_count": 15,
   "id": "d4bfed4d",
   "metadata": {},
   "outputs": [
    {
     "data": {
      "text/latex": [
       "$\\displaystyle 2 \\mathbf{{x}_{}} - \\mathbf{{y}_{}} - 3 \\mathbf{{z}_{}} + 1$"
      ],
      "text/plain": [
       "2*.x - .y - 3*.z + 1"
      ]
     },
     "execution_count": 15,
     "metadata": {},
     "output_type": "execute_result"
    }
   ],
   "source": [
    "(r-a).dot(m)"
   ]
  },
  {
   "cell_type": "markdown",
   "id": "9a24216e",
   "metadata": {},
   "source": [
    "### Problem 2"
   ]
  },
  {
   "cell_type": "markdown",
   "id": "e0ac9ccb",
   "metadata": {},
   "source": [
    "Find an equation for the tangent plane to the surface $2x^2-y^2+5y$ at the point (-2, 2, 14)."
   ]
  },
  {
   "cell_type": "code",
   "execution_count": 24,
   "id": "51932a04",
   "metadata": {},
   "outputs": [
    {
     "data": {
      "text/latex": [
       "$\\displaystyle 2 \\mathbf{{x}_{}}^{2} - \\mathbf{{y}_{}}^{2} + 5 \\mathbf{{y}_{}}$"
      ],
      "text/plain": [
       "2*.x**2 - .y**2 + 5*.y"
      ]
     },
     "execution_count": 24,
     "metadata": {},
     "output_type": "execute_result"
    }
   ],
   "source": [
    "f = 2*C.x**2-C.y**2+5*C.y\n",
    "f"
   ]
  },
  {
   "cell_type": "code",
   "execution_count": 25,
   "id": "0ceef86e",
   "metadata": {},
   "outputs": [
    {
     "data": {
      "text/latex": [
       "$\\displaystyle \\left(4 \\mathbf{{x}_{}}\\right)\\mathbf{\\hat{i}_{}} + \\left(5 - 2 \\mathbf{{y}_{}}\\right)\\mathbf{\\hat{j}_{}}$"
      ],
      "text/plain": [
       "4*.x*.i + (5 - 2*.y)*.j"
      ]
     },
     "execution_count": 25,
     "metadata": {},
     "output_type": "execute_result"
    }
   ],
   "source": [
    "p=gradient(f)\n",
    "p"
   ]
  },
  {
   "cell_type": "code",
   "execution_count": 26,
   "id": "fbeeae62",
   "metadata": {},
   "outputs": [
    {
     "data": {
      "text/latex": [
       "$\\displaystyle \\left(-8\\right)\\mathbf{\\hat{i}_{}} + \\mathbf{\\hat{j}_{}}$"
      ],
      "text/plain": [
       "(-8)*.i + .j"
      ]
     },
     "execution_count": 26,
     "metadata": {},
     "output_type": "execute_result"
    }
   ],
   "source": [
    "m=p.subs(C.x, -2).subs(C.y, 2).subs(C.z, 14)\n",
    "m"
   ]
  },
  {
   "cell_type": "markdown",
   "id": "3c080861",
   "metadata": {},
   "source": [
    "Position Vector of the given point (-2, 2, 14)"
   ]
  },
  {
   "cell_type": "code",
   "execution_count": 27,
   "id": "558abad8",
   "metadata": {},
   "outputs": [
    {
     "data": {
      "text/latex": [
       "$\\displaystyle \\left(-2\\right)\\mathbf{\\hat{i}_{}} + \\left(2\\right)\\mathbf{\\hat{j}_{}} + \\left(14\\right)\\mathbf{\\hat{k}_{}}$"
      ],
      "text/plain": [
       "(-2)*.i + 2*.j + 14*.k"
      ]
     },
     "execution_count": 27,
     "metadata": {},
     "output_type": "execute_result"
    }
   ],
   "source": [
    "a=-2*C.i+2*C.j+14*C.k\n",
    "a"
   ]
  },
  {
   "cell_type": "code",
   "execution_count": 28,
   "id": "891e1432",
   "metadata": {},
   "outputs": [
    {
     "data": {
      "text/latex": [
       "$\\displaystyle \\left(\\mathbf{{x}_{}}\\right)\\mathbf{\\hat{i}_{}} + \\left(\\mathbf{{y}_{}}\\right)\\mathbf{\\hat{j}_{}} + \\left(\\mathbf{{z}_{}}\\right)\\mathbf{\\hat{k}_{}}$"
      ],
      "text/plain": [
       ".x*.i + .y*.j + .z*.k"
      ]
     },
     "execution_count": 28,
     "metadata": {},
     "output_type": "execute_result"
    }
   ],
   "source": [
    "r=C.x*C.i+C.y*C.j+C.z*C.k\n",
    "r"
   ]
  },
  {
   "cell_type": "markdown",
   "id": "25d5fb43",
   "metadata": {},
   "source": [
    "The tangent place of A is $(r-a).(\\nabla f_A)=0$"
   ]
  },
  {
   "cell_type": "code",
   "execution_count": 23,
   "id": "0402e853",
   "metadata": {},
   "outputs": [
    {
     "data": {
      "text/latex": [
       "$\\displaystyle - 8 \\mathbf{{x}_{}} + \\mathbf{{y}_{}} - 18$"
      ],
      "text/plain": [
       "-8*.x + .y - 18"
      ]
     },
     "execution_count": 23,
     "metadata": {},
     "output_type": "execute_result"
    }
   ],
   "source": [
    "(r-a).dot(m)"
   ]
  },
  {
   "cell_type": "markdown",
   "id": "9b9fc820",
   "metadata": {},
   "source": [
    "### Problem 3"
   ]
  },
  {
   "cell_type": "markdown",
   "id": "ed0f01a8",
   "metadata": {},
   "source": [
    "Find an equation for the tangent plane to the surface $ 4x^3y-7xy^2$ at the point (1,1,-3)."
   ]
  },
  {
   "cell_type": "code",
   "execution_count": 29,
   "id": "9a75afed",
   "metadata": {},
   "outputs": [
    {
     "data": {
      "text/latex": [
       "$\\displaystyle \\left(5\\right)\\mathbf{\\hat{i}_{}} + \\left(-10\\right)\\mathbf{\\hat{j}_{}}$"
      ],
      "text/plain": [
       "5*.i + (-10)*.j"
      ]
     },
     "execution_count": 29,
     "metadata": {},
     "output_type": "execute_result"
    }
   ],
   "source": [
    "f = 4*C.x**3*C.y-7*C.x*C.y**2\n",
    "f\n",
    "p=gradient(f)\n",
    "p\n",
    "m=p.subs(C.x, 1).subs(C.y, 1).subs(C.z, -3)\n",
    "m"
   ]
  },
  {
   "cell_type": "markdown",
   "id": "6f1bdf40",
   "metadata": {},
   "source": [
    "Position Vector of the given point (1,1,-3)"
   ]
  },
  {
   "cell_type": "code",
   "execution_count": 31,
   "id": "036110f6",
   "metadata": {},
   "outputs": [
    {
     "data": {
      "text/latex": [
       "$\\displaystyle \\mathbf{\\hat{i}_{}} + \\mathbf{\\hat{j}_{}} + \\left(-3\\right)\\mathbf{\\hat{k}_{}}$"
      ],
      "text/plain": [
       ".i + .j + (-3)*.k"
      ]
     },
     "execution_count": 31,
     "metadata": {},
     "output_type": "execute_result"
    }
   ],
   "source": [
    "a=1*C.i+1*C.j-3*C.k\n",
    "a\n",
    "r=C.x*C.i+C.y*C.j+C.z*C.k\n",
    "r\n",
    "a"
   ]
  },
  {
   "cell_type": "markdown",
   "id": "45129de7",
   "metadata": {},
   "source": [
    "The tangent place of A is $(r-a).(\\nabla f_A)=0$"
   ]
  },
  {
   "cell_type": "code",
   "execution_count": 32,
   "id": "dad88525",
   "metadata": {},
   "outputs": [
    {
     "data": {
      "text/latex": [
       "$\\displaystyle 5 \\mathbf{{x}_{}} - 10 \\mathbf{{y}_{}} + 5$"
      ],
      "text/plain": [
       "5*.x - 10*.y + 5"
      ]
     },
     "execution_count": 32,
     "metadata": {},
     "output_type": "execute_result"
    }
   ],
   "source": [
    "(r-a).dot(m)"
   ]
  },
  {
   "cell_type": "code",
   "execution_count": null,
   "id": "b31dee49",
   "metadata": {},
   "outputs": [],
   "source": []
  }
 ],
 "metadata": {
  "kernelspec": {
   "display_name": "Python 3 (ipykernel)",
   "language": "python",
   "name": "python3"
  },
  "language_info": {
   "codemirror_mode": {
    "name": "ipython",
    "version": 3
   },
   "file_extension": ".py",
   "mimetype": "text/x-python",
   "name": "python",
   "nbconvert_exporter": "python",
   "pygments_lexer": "ipython3",
   "version": "3.10.5"
  }
 },
 "nbformat": 4,
 "nbformat_minor": 5
}
