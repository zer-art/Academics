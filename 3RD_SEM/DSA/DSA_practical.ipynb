{
 "cells": [
  {
   "cell_type": "code",
   "execution_count": 29,
   "metadata": {},
   "outputs": [
    {
     "data": {
      "text/plain": [
       "[6, 1, 6, 10, 9, 1, 9, 4, 1, 6]"
      ]
     },
     "execution_count": 29,
     "metadata": {},
     "output_type": "execute_result"
    }
   ],
   "source": [
    "import math\n",
    "import random \n",
    "import numpy\n",
    "\n",
    "lst = []\n",
    "\n",
    "for i in range (10):\n",
    "    lst.append(random.randint(0,10))\n",
    "\n",
    "lst    "
   ]
  },
  {
   "cell_type": "code",
   "execution_count": 30,
   "metadata": {},
   "outputs": [
    {
     "name": "stdout",
     "output_type": "stream",
     "text": [
      "total : 53\n"
     ]
    }
   ],
   "source": [
    "print(f\"total : {sum(lst)}\")"
   ]
  },
  {
   "cell_type": "code",
   "execution_count": 31,
   "metadata": {},
   "outputs": [
    {
     "name": "stdout",
     "output_type": "stream",
     "text": [
      "max : 10\n"
     ]
    }
   ],
   "source": [
    "print(f\"max : {max(lst)}\")"
   ]
  },
  {
   "cell_type": "code",
   "execution_count": 32,
   "metadata": {},
   "outputs": [
    {
     "name": "stdout",
     "output_type": "stream",
     "text": [
      "min : 1\n"
     ]
    }
   ],
   "source": [
    "print(f\"min : {min(lst)}\")"
   ]
  },
  {
   "cell_type": "code",
   "execution_count": 33,
   "metadata": {},
   "outputs": [
    {
     "name": "stdout",
     "output_type": "stream",
     "text": [
      "avg : 5.3\n"
     ]
    }
   ],
   "source": [
    "print(f\"avg : {numpy.mean(lst)}\")"
   ]
  },
  {
   "cell_type": "code",
   "execution_count": 34,
   "metadata": {},
   "outputs": [
    {
     "name": "stdout",
     "output_type": "stream",
     "text": [
      "sorted list : [1, 1, 1, 4, 6, 6, 6, 9, 9, 10]\n"
     ]
    }
   ],
   "source": [
    "print(f\"sorted list : {sorted(lst)}\")"
   ]
  },
  {
   "cell_type": "code",
   "execution_count": 35,
   "metadata": {},
   "outputs": [
    {
     "name": "stdout",
     "output_type": "stream",
     "text": [
      "count of 1 : 3\n"
     ]
    }
   ],
   "source": [
    "print(f\"count of 1 : {lst.count(1)}\")"
   ]
  },
  {
   "cell_type": "code",
   "execution_count": 36,
   "metadata": {},
   "outputs": [],
   "source": [
    "if 5 in lst:\n",
    "    print(f\"index of 5 in the list  : {lst.index(5)}\")\n",
    "else : \n",
    "    None    "
   ]
  },
  {
   "cell_type": "code",
   "execution_count": 37,
   "metadata": {},
   "outputs": [
    {
     "name": "stdout",
     "output_type": "stream",
     "text": [
      "reversed list : None\n"
     ]
    }
   ],
   "source": [
    "print(f\"reversed list : {lst.reverse()}\")"
   ]
  }
 ],
 "metadata": {
  "kernelspec": {
   "display_name": "Python 3",
   "language": "python",
   "name": "python3"
  },
  "language_info": {
   "codemirror_mode": {
    "name": "ipython",
    "version": 3
   },
   "file_extension": ".py",
   "mimetype": "text/x-python",
   "name": "python",
   "nbconvert_exporter": "python",
   "pygments_lexer": "ipython3",
   "version": "3.12.3"
  }
 },
 "nbformat": 4,
 "nbformat_minor": 2
}
