{
 "cells": [
  {
   "cell_type": "code",
   "execution_count": 32,
   "id": "471a1232",
   "metadata": {},
   "outputs": [],
   "source": [
    "#import sympy as sp\n",
    "from sympy import diff, symbols, factorial, exp, pretty_print\n",
    "#import numpy as np"
   ]
  },
  {
   "cell_type": "code",
   "execution_count": 33,
   "id": "442d5d3c",
   "metadata": {},
   "outputs": [],
   "source": [
    "x, a, h=symbols(\"x a h\")"
   ]
  },
  {
   "cell_type": "code",
   "execution_count": 47,
   "id": "ae2be7f8",
   "metadata": {},
   "outputs": [],
   "source": [
    "func=sp.log(a+x)"
   ]
  },
  {
   "cell_type": "code",
   "execution_count": 1,
   "id": "d03615f7",
   "metadata": {},
   "outputs": [],
   "source": [
    "n=10\n",
    "x0=0"
   ]
  },
  {
   "cell_type": "code",
   "execution_count": 40,
   "id": "ec72f390",
   "metadata": {},
   "outputs": [],
   "source": [
    "result = func.subs(x,x0)"
   ]
  },
  {
   "cell_type": "code",
   "execution_count": 45,
   "id": "e8c3cabf",
   "metadata": {},
   "outputs": [],
   "source": [
    "for i in range(1,n):\n",
    "   result += diff(func,x, i).subs(x,x0)*(x-x0)**i/factorial(i)\n",
    "val=3\n"
   ]
  },
  {
   "cell_type": "code",
   "execution_count": 46,
   "id": "2ec9ef8c",
   "metadata": {},
   "outputs": [
    {
     "name": "stdout",
     "output_type": "stream",
     "text": [
      "                  2    3      4\n",
      "         3⋅x   3⋅x    x    3⋅x \n",
      "log(a) + ─── - ──── + ── - ────\n",
      "          a       2    3      4\n",
      "               2⋅a    a    4⋅a \n"
     ]
    }
   ],
   "source": [
    "pretty_print(result)"
   ]
  },
  {
   "cell_type": "code",
   "execution_count": null,
   "id": "ba061840",
   "metadata": {},
   "outputs": [],
   "source": []
  }
 ],
 "metadata": {
  "kernelspec": {
   "display_name": "Python 3 (ipykernel)",
   "language": "python",
   "name": "python3"
  },
  "language_info": {
   "codemirror_mode": {
    "name": "ipython",
    "version": 3
   },
   "file_extension": ".py",
   "mimetype": "text/x-python",
   "name": "python",
   "nbconvert_exporter": "python",
   "pygments_lexer": "ipython3",
   "version": "3.10.5"
  }
 },
 "nbformat": 4,
 "nbformat_minor": 5
}
